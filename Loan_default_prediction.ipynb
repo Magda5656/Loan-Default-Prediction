{
  "nbformat": 4,
  "nbformat_minor": 0,
  "metadata": {
    "colab": {
      "name": "Copy of Loan default prediction",
      "provenance": [],
      "machine_shape": "hm"
    },
    "kernelspec": {
      "name": "python3",
      "display_name": "Python 3"
    },
    "accelerator": "TPU"
  },
  "cells": [
    {
      "cell_type": "markdown",
      "metadata": {
        "id": "oMT93EeQHFDm",
        "colab_type": "text"
      },
      "source": [
        "#Loan default prediction\n",
        "\n",
        "---\n",
        "\n"
      ]
    },
    {
      "cell_type": "markdown",
      "metadata": {
        "id": "FbdtEObLpdZA",
        "colab_type": "text"
      },
      "source": [
        "**Author: Magdalena Sztuk**"
      ]
    },
    {
      "cell_type": "markdown",
      "metadata": {
        "id": "UhOu2px8HR_C",
        "colab_type": "text"
      },
      "source": [
        "The puropuse of this notebook is to choose the best model in default prediction problem. The notebook was devided into four parts:\n",
        "\n",
        "\n",
        "1.   Data exploration\n",
        "2.   Pre-processing\n",
        "3.   Models creation\n",
        "4.   Model selection\n",
        "\n",
        "Data source: https://www.kaggle.com/wendykan/lending-club-loan-data"
      ]
    },
    {
      "cell_type": "markdown",
      "metadata": {
        "id": "wy4D1cZ0NAsF",
        "colab_type": "text"
      },
      "source": [
        "Due to the hardware limitations, we decided to use Google Colab to speed up model computing.\n"
      ]
    },
    {
      "cell_type": "code",
      "metadata": {
        "id": "8DlhZroFMmmj",
        "colab_type": "code",
        "colab": {}
      },
      "source": [
        "#Libraries\n",
        "import pandas as pd\n",
        "import numpy as np\n",
        "import seaborn as sns\n",
        "import matplotlib.pyplot as plt\n",
        "from sklearn.model_selection import train_test_split\n",
        "from sklearn.base import BaseEstimator, TransformerMixin\n",
        "from sklearn.pipeline import Pipeline\n",
        "from google.colab import files\n",
        "import io\n",
        "from sklearn.impute import SimpleImputer\n",
        "from sklearn.preprocessing import OneHotEncoder\n",
        "from sklearn.pipeline import FeatureUnion\n",
        "from sklearn.linear_model import LogisticRegression\n",
        "from sklearn.metrics import roc_auc_score, roc_curve\n",
        "from sklearn.preprocessing import OneHotEncoder\n",
        "from mlxtend.plotting import plot_confusion_matrix\n",
        "from sklearn.metrics import confusion_matrix\n",
        "from sklearn.ensemble import RandomForestClassifier\n",
        "from xgboost.sklearn import XGBClassifier\n",
        "from sklearn import  metrics\n",
        "\n",
        "#Google collab libraries\n",
        "!pip install -U -q PyDrive\n",
        "from pydrive.auth import GoogleAuth\n",
        "from pydrive.drive import GoogleDrive\n",
        "from google.colab import auth\n",
        "from oauth2client.client import GoogleCredentials\n"
      ],
      "execution_count": null,
      "outputs": []
    },
    {
      "cell_type": "markdown",
      "metadata": {
        "id": "gu1VAScWLmj-",
        "colab_type": "text"
      },
      "source": [
        "##1. Data exploration\n",
        "\n",
        "\n"
      ]
    },
    {
      "cell_type": "markdown",
      "metadata": {
        "id": "dB2EDphLO5ox",
        "colab_type": "text"
      },
      "source": [
        "a) datasets import"
      ]
    },
    {
      "cell_type": "code",
      "metadata": {
        "id": "hQMZuxHTLlnD",
        "colab_type": "code",
        "colab": {
          "base_uri": "https://localhost:8080/",
          "height": 153
        },
        "outputId": "356d0fbc-d9d3-46d2-d7a6-3e002e163403"
      },
      "source": [
        "# Google collab settings\n",
        "auth.authenticate_user()\n",
        "gauth = GoogleAuth()\n",
        "gauth.credentials = GoogleCredentials.get_application_default()\n",
        "drive = GoogleDrive(gauth)"
      ],
      "execution_count": null,
      "outputs": [
        {
          "output_type": "stream",
          "text": [
            "WARNING:tensorflow:\n",
            "The TensorFlow contrib module will not be included in TensorFlow 2.0.\n",
            "For more information, please see:\n",
            "  * https://github.com/tensorflow/community/blob/master/rfcs/20180907-contrib-sunset.md\n",
            "  * https://github.com/tensorflow/addons\n",
            "  * https://github.com/tensorflow/io (for I/O related ops)\n",
            "If you depend on functionality not listed there, please file an issue.\n",
            "\n"
          ],
          "name": "stdout"
        }
      ]
    },
    {
      "cell_type": "code",
      "metadata": {
        "id": "5Ebmol8EPHnh",
        "colab_type": "code",
        "colab": {
          "base_uri": "https://localhost:8080/",
          "height": 204
        },
        "outputId": "13c4d9e7-7641-48ea-8282-5a2662902426"
      },
      "source": [
        "#Import data from Google Drive - dictionary dataset\n",
        "link= 'https://drive.google.com/open?id=1POSrghboFvkGvt_Z5TJ0qFyRdHX2b1Lo'\n",
        "fluff, id = link.split('=')\n",
        "downloaded = drive.CreateFile({'id':id}) \n",
        "downloaded.GetContentFile('LCADictionary.xlxs')  \n",
        "dictionary = pd.read_excel('LCADictionary.xlxs')\n",
        "dictionary.head()"
      ],
      "execution_count": null,
      "outputs": [
        {
          "output_type": "execute_result",
          "data": {
            "text/html": [
              "<div>\n",
              "<style scoped>\n",
              "    .dataframe tbody tr th:only-of-type {\n",
              "        vertical-align: middle;\n",
              "    }\n",
              "\n",
              "    .dataframe tbody tr th {\n",
              "        vertical-align: top;\n",
              "    }\n",
              "\n",
              "    .dataframe thead th {\n",
              "        text-align: right;\n",
              "    }\n",
              "</style>\n",
              "<table border=\"1\" class=\"dataframe\">\n",
              "  <thead>\n",
              "    <tr style=\"text-align: right;\">\n",
              "      <th></th>\n",
              "      <th>LoanStatNew</th>\n",
              "      <th>Description</th>\n",
              "    </tr>\n",
              "  </thead>\n",
              "  <tbody>\n",
              "    <tr>\n",
              "      <th>0</th>\n",
              "      <td>acc_now_delinq</td>\n",
              "      <td>The number of accounts on which the borrower i...</td>\n",
              "    </tr>\n",
              "    <tr>\n",
              "      <th>1</th>\n",
              "      <td>acc_open_past_24mths</td>\n",
              "      <td>Number of trades opened in past 24 months.</td>\n",
              "    </tr>\n",
              "    <tr>\n",
              "      <th>2</th>\n",
              "      <td>addr_state</td>\n",
              "      <td>The state provided by the borrower in the loan...</td>\n",
              "    </tr>\n",
              "    <tr>\n",
              "      <th>3</th>\n",
              "      <td>all_util</td>\n",
              "      <td>Balance to credit limit on all trades</td>\n",
              "    </tr>\n",
              "    <tr>\n",
              "      <th>4</th>\n",
              "      <td>annual_inc</td>\n",
              "      <td>The self-reported annual income provided by th...</td>\n",
              "    </tr>\n",
              "  </tbody>\n",
              "</table>\n",
              "</div>"
            ],
            "text/plain": [
              "            LoanStatNew                                        Description\n",
              "0        acc_now_delinq  The number of accounts on which the borrower i...\n",
              "1  acc_open_past_24mths         Number of trades opened in past 24 months.\n",
              "2            addr_state  The state provided by the borrower in the loan...\n",
              "3              all_util              Balance to credit limit on all trades\n",
              "4            annual_inc  The self-reported annual income provided by th..."
            ]
          },
          "metadata": {
            "tags": []
          },
          "execution_count": 3
        }
      ]
    },
    {
      "cell_type": "code",
      "metadata": {
        "id": "_IqeuEbHPbMK",
        "colab_type": "code",
        "colab": {
          "base_uri": "https://localhost:8080/",
          "height": 372
        },
        "outputId": "ebfb4bbf-bc75-439c-8774-00e507db4b2d"
      },
      "source": [
        "#Import data from Google Drive - loan dataset\n",
        "link= 'https://drive.google.com/open?id=1rxMAhSUV8nqm8gnpKDfjbrVBJTNF9NWC'\n",
        "fluff, id = link.split('=')\n",
        "downloaded = drive.CreateFile({'id':id}) \n",
        "downloaded.GetContentFile('loan_data.csv')  \n",
        "loan = pd.read_csv('loan_data.csv')\n",
        "loan.head()"
      ],
      "execution_count": null,
      "outputs": [
        {
          "output_type": "stream",
          "text": [
            "/usr/local/lib/python3.6/dist-packages/IPython/core/interactiveshell.py:2718: DtypeWarning: Columns (19,47,55,112,123,124,125,128,129,130,133,139,140,141) have mixed types. Specify dtype option on import or set low_memory=False.\n",
            "  interactivity=interactivity, compiler=compiler, result=result)\n"
          ],
          "name": "stderr"
        },
        {
          "output_type": "execute_result",
          "data": {
            "text/html": [
              "<div>\n",
              "<style scoped>\n",
              "    .dataframe tbody tr th:only-of-type {\n",
              "        vertical-align: middle;\n",
              "    }\n",
              "\n",
              "    .dataframe tbody tr th {\n",
              "        vertical-align: top;\n",
              "    }\n",
              "\n",
              "    .dataframe thead th {\n",
              "        text-align: right;\n",
              "    }\n",
              "</style>\n",
              "<table border=\"1\" class=\"dataframe\">\n",
              "  <thead>\n",
              "    <tr style=\"text-align: right;\">\n",
              "      <th></th>\n",
              "      <th>id</th>\n",
              "      <th>member_id</th>\n",
              "      <th>loan_amnt</th>\n",
              "      <th>funded_amnt</th>\n",
              "      <th>funded_amnt_inv</th>\n",
              "      <th>term</th>\n",
              "      <th>int_rate</th>\n",
              "      <th>installment</th>\n",
              "      <th>grade</th>\n",
              "      <th>sub_grade</th>\n",
              "      <th>emp_title</th>\n",
              "      <th>emp_length</th>\n",
              "      <th>home_ownership</th>\n",
              "      <th>annual_inc</th>\n",
              "      <th>verification_status</th>\n",
              "      <th>issue_d</th>\n",
              "      <th>loan_status</th>\n",
              "      <th>pymnt_plan</th>\n",
              "      <th>url</th>\n",
              "      <th>desc</th>\n",
              "      <th>purpose</th>\n",
              "      <th>title</th>\n",
              "      <th>zip_code</th>\n",
              "      <th>addr_state</th>\n",
              "      <th>dti</th>\n",
              "      <th>delinq_2yrs</th>\n",
              "      <th>earliest_cr_line</th>\n",
              "      <th>inq_last_6mths</th>\n",
              "      <th>mths_since_last_delinq</th>\n",
              "      <th>mths_since_last_record</th>\n",
              "      <th>open_acc</th>\n",
              "      <th>pub_rec</th>\n",
              "      <th>revol_bal</th>\n",
              "      <th>revol_util</th>\n",
              "      <th>total_acc</th>\n",
              "      <th>initial_list_status</th>\n",
              "      <th>out_prncp</th>\n",
              "      <th>out_prncp_inv</th>\n",
              "      <th>total_pymnt</th>\n",
              "      <th>total_pymnt_inv</th>\n",
              "      <th>...</th>\n",
              "      <th>pub_rec_bankruptcies</th>\n",
              "      <th>tax_liens</th>\n",
              "      <th>tot_hi_cred_lim</th>\n",
              "      <th>total_bal_ex_mort</th>\n",
              "      <th>total_bc_limit</th>\n",
              "      <th>total_il_high_credit_limit</th>\n",
              "      <th>revol_bal_joint</th>\n",
              "      <th>sec_app_earliest_cr_line</th>\n",
              "      <th>sec_app_inq_last_6mths</th>\n",
              "      <th>sec_app_mort_acc</th>\n",
              "      <th>sec_app_open_acc</th>\n",
              "      <th>sec_app_revol_util</th>\n",
              "      <th>sec_app_open_act_il</th>\n",
              "      <th>sec_app_num_rev_accts</th>\n",
              "      <th>sec_app_chargeoff_within_12_mths</th>\n",
              "      <th>sec_app_collections_12_mths_ex_med</th>\n",
              "      <th>sec_app_mths_since_last_major_derog</th>\n",
              "      <th>hardship_flag</th>\n",
              "      <th>hardship_type</th>\n",
              "      <th>hardship_reason</th>\n",
              "      <th>hardship_status</th>\n",
              "      <th>deferral_term</th>\n",
              "      <th>hardship_amount</th>\n",
              "      <th>hardship_start_date</th>\n",
              "      <th>hardship_end_date</th>\n",
              "      <th>payment_plan_start_date</th>\n",
              "      <th>hardship_length</th>\n",
              "      <th>hardship_dpd</th>\n",
              "      <th>hardship_loan_status</th>\n",
              "      <th>orig_projected_additional_accrued_interest</th>\n",
              "      <th>hardship_payoff_balance_amount</th>\n",
              "      <th>hardship_last_payment_amount</th>\n",
              "      <th>disbursement_method</th>\n",
              "      <th>debt_settlement_flag</th>\n",
              "      <th>debt_settlement_flag_date</th>\n",
              "      <th>settlement_status</th>\n",
              "      <th>settlement_date</th>\n",
              "      <th>settlement_amount</th>\n",
              "      <th>settlement_percentage</th>\n",
              "      <th>settlement_term</th>\n",
              "    </tr>\n",
              "  </thead>\n",
              "  <tbody>\n",
              "    <tr>\n",
              "      <th>0</th>\n",
              "      <td>NaN</td>\n",
              "      <td>NaN</td>\n",
              "      <td>2500</td>\n",
              "      <td>2500</td>\n",
              "      <td>2500.0</td>\n",
              "      <td>36 months</td>\n",
              "      <td>13.56</td>\n",
              "      <td>84.92</td>\n",
              "      <td>C</td>\n",
              "      <td>C1</td>\n",
              "      <td>Chef</td>\n",
              "      <td>10+ years</td>\n",
              "      <td>RENT</td>\n",
              "      <td>55000.0</td>\n",
              "      <td>Not Verified</td>\n",
              "      <td>Dec-2018</td>\n",
              "      <td>Current</td>\n",
              "      <td>n</td>\n",
              "      <td>NaN</td>\n",
              "      <td>NaN</td>\n",
              "      <td>debt_consolidation</td>\n",
              "      <td>Debt consolidation</td>\n",
              "      <td>109xx</td>\n",
              "      <td>NY</td>\n",
              "      <td>18.24</td>\n",
              "      <td>0.0</td>\n",
              "      <td>Apr-2001</td>\n",
              "      <td>1.0</td>\n",
              "      <td>NaN</td>\n",
              "      <td>45.0</td>\n",
              "      <td>9.0</td>\n",
              "      <td>1.0</td>\n",
              "      <td>4341</td>\n",
              "      <td>10.3</td>\n",
              "      <td>34.0</td>\n",
              "      <td>w</td>\n",
              "      <td>2386.02</td>\n",
              "      <td>2386.02</td>\n",
              "      <td>167.02</td>\n",
              "      <td>167.02</td>\n",
              "      <td>...</td>\n",
              "      <td>1.0</td>\n",
              "      <td>0.0</td>\n",
              "      <td>60124.0</td>\n",
              "      <td>16901.0</td>\n",
              "      <td>36500.0</td>\n",
              "      <td>18124.0</td>\n",
              "      <td>NaN</td>\n",
              "      <td>NaN</td>\n",
              "      <td>NaN</td>\n",
              "      <td>NaN</td>\n",
              "      <td>NaN</td>\n",
              "      <td>NaN</td>\n",
              "      <td>NaN</td>\n",
              "      <td>NaN</td>\n",
              "      <td>NaN</td>\n",
              "      <td>NaN</td>\n",
              "      <td>NaN</td>\n",
              "      <td>N</td>\n",
              "      <td>NaN</td>\n",
              "      <td>NaN</td>\n",
              "      <td>NaN</td>\n",
              "      <td>NaN</td>\n",
              "      <td>NaN</td>\n",
              "      <td>NaN</td>\n",
              "      <td>NaN</td>\n",
              "      <td>NaN</td>\n",
              "      <td>NaN</td>\n",
              "      <td>NaN</td>\n",
              "      <td>NaN</td>\n",
              "      <td>NaN</td>\n",
              "      <td>NaN</td>\n",
              "      <td>NaN</td>\n",
              "      <td>Cash</td>\n",
              "      <td>N</td>\n",
              "      <td>NaN</td>\n",
              "      <td>NaN</td>\n",
              "      <td>NaN</td>\n",
              "      <td>NaN</td>\n",
              "      <td>NaN</td>\n",
              "      <td>NaN</td>\n",
              "    </tr>\n",
              "    <tr>\n",
              "      <th>1</th>\n",
              "      <td>NaN</td>\n",
              "      <td>NaN</td>\n",
              "      <td>30000</td>\n",
              "      <td>30000</td>\n",
              "      <td>30000.0</td>\n",
              "      <td>60 months</td>\n",
              "      <td>18.94</td>\n",
              "      <td>777.23</td>\n",
              "      <td>D</td>\n",
              "      <td>D2</td>\n",
              "      <td>Postmaster</td>\n",
              "      <td>10+ years</td>\n",
              "      <td>MORTGAGE</td>\n",
              "      <td>90000.0</td>\n",
              "      <td>Source Verified</td>\n",
              "      <td>Dec-2018</td>\n",
              "      <td>Current</td>\n",
              "      <td>n</td>\n",
              "      <td>NaN</td>\n",
              "      <td>NaN</td>\n",
              "      <td>debt_consolidation</td>\n",
              "      <td>Debt consolidation</td>\n",
              "      <td>713xx</td>\n",
              "      <td>LA</td>\n",
              "      <td>26.52</td>\n",
              "      <td>0.0</td>\n",
              "      <td>Jun-1987</td>\n",
              "      <td>0.0</td>\n",
              "      <td>71.0</td>\n",
              "      <td>75.0</td>\n",
              "      <td>13.0</td>\n",
              "      <td>1.0</td>\n",
              "      <td>12315</td>\n",
              "      <td>24.2</td>\n",
              "      <td>44.0</td>\n",
              "      <td>w</td>\n",
              "      <td>29387.75</td>\n",
              "      <td>29387.75</td>\n",
              "      <td>1507.11</td>\n",
              "      <td>1507.11</td>\n",
              "      <td>...</td>\n",
              "      <td>1.0</td>\n",
              "      <td>0.0</td>\n",
              "      <td>372872.0</td>\n",
              "      <td>99468.0</td>\n",
              "      <td>15000.0</td>\n",
              "      <td>94072.0</td>\n",
              "      <td>NaN</td>\n",
              "      <td>NaN</td>\n",
              "      <td>NaN</td>\n",
              "      <td>NaN</td>\n",
              "      <td>NaN</td>\n",
              "      <td>NaN</td>\n",
              "      <td>NaN</td>\n",
              "      <td>NaN</td>\n",
              "      <td>NaN</td>\n",
              "      <td>NaN</td>\n",
              "      <td>NaN</td>\n",
              "      <td>N</td>\n",
              "      <td>NaN</td>\n",
              "      <td>NaN</td>\n",
              "      <td>NaN</td>\n",
              "      <td>NaN</td>\n",
              "      <td>NaN</td>\n",
              "      <td>NaN</td>\n",
              "      <td>NaN</td>\n",
              "      <td>NaN</td>\n",
              "      <td>NaN</td>\n",
              "      <td>NaN</td>\n",
              "      <td>NaN</td>\n",
              "      <td>NaN</td>\n",
              "      <td>NaN</td>\n",
              "      <td>NaN</td>\n",
              "      <td>Cash</td>\n",
              "      <td>N</td>\n",
              "      <td>NaN</td>\n",
              "      <td>NaN</td>\n",
              "      <td>NaN</td>\n",
              "      <td>NaN</td>\n",
              "      <td>NaN</td>\n",
              "      <td>NaN</td>\n",
              "    </tr>\n",
              "    <tr>\n",
              "      <th>2</th>\n",
              "      <td>NaN</td>\n",
              "      <td>NaN</td>\n",
              "      <td>5000</td>\n",
              "      <td>5000</td>\n",
              "      <td>5000.0</td>\n",
              "      <td>36 months</td>\n",
              "      <td>17.97</td>\n",
              "      <td>180.69</td>\n",
              "      <td>D</td>\n",
              "      <td>D1</td>\n",
              "      <td>Administrative</td>\n",
              "      <td>6 years</td>\n",
              "      <td>MORTGAGE</td>\n",
              "      <td>59280.0</td>\n",
              "      <td>Source Verified</td>\n",
              "      <td>Dec-2018</td>\n",
              "      <td>Current</td>\n",
              "      <td>n</td>\n",
              "      <td>NaN</td>\n",
              "      <td>NaN</td>\n",
              "      <td>debt_consolidation</td>\n",
              "      <td>Debt consolidation</td>\n",
              "      <td>490xx</td>\n",
              "      <td>MI</td>\n",
              "      <td>10.51</td>\n",
              "      <td>0.0</td>\n",
              "      <td>Apr-2011</td>\n",
              "      <td>0.0</td>\n",
              "      <td>NaN</td>\n",
              "      <td>NaN</td>\n",
              "      <td>8.0</td>\n",
              "      <td>0.0</td>\n",
              "      <td>4599</td>\n",
              "      <td>19.1</td>\n",
              "      <td>13.0</td>\n",
              "      <td>w</td>\n",
              "      <td>4787.21</td>\n",
              "      <td>4787.21</td>\n",
              "      <td>353.89</td>\n",
              "      <td>353.89</td>\n",
              "      <td>...</td>\n",
              "      <td>0.0</td>\n",
              "      <td>0.0</td>\n",
              "      <td>136927.0</td>\n",
              "      <td>11749.0</td>\n",
              "      <td>13800.0</td>\n",
              "      <td>10000.0</td>\n",
              "      <td>NaN</td>\n",
              "      <td>NaN</td>\n",
              "      <td>NaN</td>\n",
              "      <td>NaN</td>\n",
              "      <td>NaN</td>\n",
              "      <td>NaN</td>\n",
              "      <td>NaN</td>\n",
              "      <td>NaN</td>\n",
              "      <td>NaN</td>\n",
              "      <td>NaN</td>\n",
              "      <td>NaN</td>\n",
              "      <td>N</td>\n",
              "      <td>NaN</td>\n",
              "      <td>NaN</td>\n",
              "      <td>NaN</td>\n",
              "      <td>NaN</td>\n",
              "      <td>NaN</td>\n",
              "      <td>NaN</td>\n",
              "      <td>NaN</td>\n",
              "      <td>NaN</td>\n",
              "      <td>NaN</td>\n",
              "      <td>NaN</td>\n",
              "      <td>NaN</td>\n",
              "      <td>NaN</td>\n",
              "      <td>NaN</td>\n",
              "      <td>NaN</td>\n",
              "      <td>Cash</td>\n",
              "      <td>N</td>\n",
              "      <td>NaN</td>\n",
              "      <td>NaN</td>\n",
              "      <td>NaN</td>\n",
              "      <td>NaN</td>\n",
              "      <td>NaN</td>\n",
              "      <td>NaN</td>\n",
              "    </tr>\n",
              "    <tr>\n",
              "      <th>3</th>\n",
              "      <td>NaN</td>\n",
              "      <td>NaN</td>\n",
              "      <td>4000</td>\n",
              "      <td>4000</td>\n",
              "      <td>4000.0</td>\n",
              "      <td>36 months</td>\n",
              "      <td>18.94</td>\n",
              "      <td>146.51</td>\n",
              "      <td>D</td>\n",
              "      <td>D2</td>\n",
              "      <td>IT Supervisor</td>\n",
              "      <td>10+ years</td>\n",
              "      <td>MORTGAGE</td>\n",
              "      <td>92000.0</td>\n",
              "      <td>Source Verified</td>\n",
              "      <td>Dec-2018</td>\n",
              "      <td>Current</td>\n",
              "      <td>n</td>\n",
              "      <td>NaN</td>\n",
              "      <td>NaN</td>\n",
              "      <td>debt_consolidation</td>\n",
              "      <td>Debt consolidation</td>\n",
              "      <td>985xx</td>\n",
              "      <td>WA</td>\n",
              "      <td>16.74</td>\n",
              "      <td>0.0</td>\n",
              "      <td>Feb-2006</td>\n",
              "      <td>0.0</td>\n",
              "      <td>NaN</td>\n",
              "      <td>NaN</td>\n",
              "      <td>10.0</td>\n",
              "      <td>0.0</td>\n",
              "      <td>5468</td>\n",
              "      <td>78.1</td>\n",
              "      <td>13.0</td>\n",
              "      <td>w</td>\n",
              "      <td>3831.93</td>\n",
              "      <td>3831.93</td>\n",
              "      <td>286.71</td>\n",
              "      <td>286.71</td>\n",
              "      <td>...</td>\n",
              "      <td>0.0</td>\n",
              "      <td>0.0</td>\n",
              "      <td>385183.0</td>\n",
              "      <td>36151.0</td>\n",
              "      <td>5000.0</td>\n",
              "      <td>44984.0</td>\n",
              "      <td>NaN</td>\n",
              "      <td>NaN</td>\n",
              "      <td>NaN</td>\n",
              "      <td>NaN</td>\n",
              "      <td>NaN</td>\n",
              "      <td>NaN</td>\n",
              "      <td>NaN</td>\n",
              "      <td>NaN</td>\n",
              "      <td>NaN</td>\n",
              "      <td>NaN</td>\n",
              "      <td>NaN</td>\n",
              "      <td>N</td>\n",
              "      <td>NaN</td>\n",
              "      <td>NaN</td>\n",
              "      <td>NaN</td>\n",
              "      <td>NaN</td>\n",
              "      <td>NaN</td>\n",
              "      <td>NaN</td>\n",
              "      <td>NaN</td>\n",
              "      <td>NaN</td>\n",
              "      <td>NaN</td>\n",
              "      <td>NaN</td>\n",
              "      <td>NaN</td>\n",
              "      <td>NaN</td>\n",
              "      <td>NaN</td>\n",
              "      <td>NaN</td>\n",
              "      <td>Cash</td>\n",
              "      <td>N</td>\n",
              "      <td>NaN</td>\n",
              "      <td>NaN</td>\n",
              "      <td>NaN</td>\n",
              "      <td>NaN</td>\n",
              "      <td>NaN</td>\n",
              "      <td>NaN</td>\n",
              "    </tr>\n",
              "    <tr>\n",
              "      <th>4</th>\n",
              "      <td>NaN</td>\n",
              "      <td>NaN</td>\n",
              "      <td>30000</td>\n",
              "      <td>30000</td>\n",
              "      <td>30000.0</td>\n",
              "      <td>60 months</td>\n",
              "      <td>16.14</td>\n",
              "      <td>731.78</td>\n",
              "      <td>C</td>\n",
              "      <td>C4</td>\n",
              "      <td>Mechanic</td>\n",
              "      <td>10+ years</td>\n",
              "      <td>MORTGAGE</td>\n",
              "      <td>57250.0</td>\n",
              "      <td>Not Verified</td>\n",
              "      <td>Dec-2018</td>\n",
              "      <td>Current</td>\n",
              "      <td>n</td>\n",
              "      <td>NaN</td>\n",
              "      <td>NaN</td>\n",
              "      <td>debt_consolidation</td>\n",
              "      <td>Debt consolidation</td>\n",
              "      <td>212xx</td>\n",
              "      <td>MD</td>\n",
              "      <td>26.35</td>\n",
              "      <td>0.0</td>\n",
              "      <td>Dec-2000</td>\n",
              "      <td>0.0</td>\n",
              "      <td>NaN</td>\n",
              "      <td>NaN</td>\n",
              "      <td>12.0</td>\n",
              "      <td>0.0</td>\n",
              "      <td>829</td>\n",
              "      <td>3.6</td>\n",
              "      <td>26.0</td>\n",
              "      <td>w</td>\n",
              "      <td>29339.02</td>\n",
              "      <td>29339.02</td>\n",
              "      <td>1423.21</td>\n",
              "      <td>1423.21</td>\n",
              "      <td>...</td>\n",
              "      <td>0.0</td>\n",
              "      <td>0.0</td>\n",
              "      <td>157548.0</td>\n",
              "      <td>29674.0</td>\n",
              "      <td>9300.0</td>\n",
              "      <td>32332.0</td>\n",
              "      <td>NaN</td>\n",
              "      <td>NaN</td>\n",
              "      <td>NaN</td>\n",
              "      <td>NaN</td>\n",
              "      <td>NaN</td>\n",
              "      <td>NaN</td>\n",
              "      <td>NaN</td>\n",
              "      <td>NaN</td>\n",
              "      <td>NaN</td>\n",
              "      <td>NaN</td>\n",
              "      <td>NaN</td>\n",
              "      <td>N</td>\n",
              "      <td>NaN</td>\n",
              "      <td>NaN</td>\n",
              "      <td>NaN</td>\n",
              "      <td>NaN</td>\n",
              "      <td>NaN</td>\n",
              "      <td>NaN</td>\n",
              "      <td>NaN</td>\n",
              "      <td>NaN</td>\n",
              "      <td>NaN</td>\n",
              "      <td>NaN</td>\n",
              "      <td>NaN</td>\n",
              "      <td>NaN</td>\n",
              "      <td>NaN</td>\n",
              "      <td>NaN</td>\n",
              "      <td>Cash</td>\n",
              "      <td>N</td>\n",
              "      <td>NaN</td>\n",
              "      <td>NaN</td>\n",
              "      <td>NaN</td>\n",
              "      <td>NaN</td>\n",
              "      <td>NaN</td>\n",
              "      <td>NaN</td>\n",
              "    </tr>\n",
              "  </tbody>\n",
              "</table>\n",
              "<p>5 rows × 145 columns</p>\n",
              "</div>"
            ],
            "text/plain": [
              "   id  member_id  ...  settlement_percentage  settlement_term\n",
              "0 NaN        NaN  ...                    NaN              NaN\n",
              "1 NaN        NaN  ...                    NaN              NaN\n",
              "2 NaN        NaN  ...                    NaN              NaN\n",
              "3 NaN        NaN  ...                    NaN              NaN\n",
              "4 NaN        NaN  ...                    NaN              NaN\n",
              "\n",
              "[5 rows x 145 columns]"
            ]
          },
          "metadata": {
            "tags": []
          },
          "execution_count": 4
        }
      ]
    },
    {
      "cell_type": "markdown",
      "metadata": {
        "id": "DnuriEz2RVzD",
        "colab_type": "text"
      },
      "source": [
        "###b) dependent variable creation\n"
      ]
    },
    {
      "cell_type": "code",
      "metadata": {
        "id": "kW6cnmlRPnmh",
        "colab_type": "code",
        "colab": {}
      },
      "source": [
        "loan['target']=loan['loan_status'].apply(lambda x:1 if x in ['Default','Charged Off', 'Does not meet the credit policy. Status:Charged Off','Late (31-120 days)'] else 0).astype('int64')\n",
        "loan.drop('loan_status',axis=1,inplace=True)"
      ],
      "execution_count": null,
      "outputs": []
    },
    {
      "cell_type": "markdown",
      "metadata": {
        "id": "vu30_H7BSjJ0",
        "colab_type": "text"
      },
      "source": [
        "###c) checking missing values"
      ]
    },
    {
      "cell_type": "code",
      "metadata": {
        "id": "C6JUbuoYSYNk",
        "colab_type": "code",
        "colab": {}
      },
      "source": [
        "null = round(loan.isnull().sum().sort_values(ascending=False)/float(len(loan)),2)"
      ],
      "execution_count": null,
      "outputs": []
    },
    {
      "cell_type": "code",
      "metadata": {
        "id": "Kr4fo_Q7TSYh",
        "colab_type": "code",
        "colab": {
          "base_uri": "https://localhost:8080/",
          "height": 501
        },
        "outputId": "bb7998c2-5fd8-450c-c4bc-2ea3be260c78"
      },
      "source": [
        "#columns with more than 50% of missing values\n",
        "null[null>=0.5].plot(kind='bar')\n",
        "plt.title('Columns with more than 50% of missing values',fontsize=10)\n",
        "plt.show"
      ],
      "execution_count": null,
      "outputs": [
        {
          "output_type": "execute_result",
          "data": {
            "text/plain": [
              "<function matplotlib.pyplot.show>"
            ]
          },
          "metadata": {
            "tags": []
          },
          "execution_count": 7
        },
        {
          "output_type": "display_data",
          "data": {
            "image/png": "[encoded data removed]",
            "text/plain": [
              "<Figure size 432x288 with 1 Axes>"
            ]
          },
          "metadata": {
            "tags": []
          }
        }
      ]
    },
    {
      "cell_type": "code",
      "metadata": {
        "id": "FpVvg_caUa5r",
        "colab_type": "code",
        "colab": {
          "base_uri": "https://localhost:8080/",
          "height": 33
        },
        "outputId": "3dd584de-6e95-4a94-9232-8327152eb56c"
      },
      "source": [
        "#dropping columns with 50% of missing values\n",
        "loan.drop(null[null>=0.5].index, axis=1, inplace=True) \n",
        "loan.shape"
      ],
      "execution_count": null,
      "outputs": [
        {
          "output_type": "execute_result",
          "data": {
            "text/plain": [
              "(2260668, 101)"
            ]
          },
          "metadata": {
            "tags": []
          },
          "execution_count": 8
        }
      ]
    },
    {
      "cell_type": "code",
      "metadata": {
        "id": "OH68xnl2VufD",
        "colab_type": "code",
        "colab": {
          "base_uri": "https://localhost:8080/",
          "height": 212
        },
        "outputId": "a8eab6b7-f8a3-4a7f-a4ba-d9d7a1c12ee7"
      },
      "source": [
        "#again,checking structure of missing valuse\n",
        "null = loan.isnull().sum().sort_values(ascending=False)/float(len(loan))\n",
        "null"
      ],
      "execution_count": null,
      "outputs": [
        {
          "output_type": "execute_result",
          "data": {
            "text/plain": [
              "il_util               0.472803\n",
              "mths_since_rcnt_il    0.402502\n",
              "all_util              0.383227\n",
              "inq_last_12m          0.383130\n",
              "open_acc_6m           0.383130\n",
              "                        ...   \n",
              "total_pymnt_inv       0.000000\n",
              "total_pymnt           0.000000\n",
              "out_prncp_inv         0.000000\n",
              "out_prncp             0.000000\n",
              "loan_amnt             0.000000\n",
              "Length: 101, dtype: float64"
            ]
          },
          "metadata": {
            "tags": []
          },
          "execution_count": 9
        }
      ]
    },
    {
      "cell_type": "code",
      "metadata": {
        "id": "XwNNxV8EWO5T",
        "colab_type": "code",
        "colab": {
          "base_uri": "https://localhost:8080/",
          "height": 296
        },
        "outputId": "3ae00e2b-40dc-4ab8-dc3d-15281dc4d2f4"
      },
      "source": [
        "#columns which have more than 10% of missing values\n",
        "null[null>=0.1].plot('barh')\n",
        "plt.title('Columns with more than 10% of missing values',fontsize=10)\n",
        "plt.show"
      ],
      "execution_count": null,
      "outputs": [
        {
          "output_type": "execute_result",
          "data": {
            "text/plain": [
              "<function matplotlib.pyplot.show>"
            ]
          },
          "metadata": {
            "tags": []
          },
          "execution_count": 43
        },
        {
          "output_type": "display_data",
          "data": {
            "image/png": "[encoded data removed]",
            "text/plain": [
              "<Figure size 432x288 with 1 Axes>"
            ]
          },
          "metadata": {
            "tags": []
          }
        }
      ]
    },
    {
      "cell_type": "code",
      "metadata": {
        "id": "M-gdNt1aYvSY",
        "colab_type": "code",
        "colab": {
          "base_uri": "https://localhost:8080/",
          "height": 33
        },
        "outputId": "f531be13-faa6-4d2d-95c8-7d0a6bdb3031"
      },
      "source": [
        "#dropping columns with more than 10% of missing values\n",
        "loan.drop(null[null>=0.10].index, axis=1, inplace=True) \n",
        "loan.shape"
      ],
      "execution_count": null,
      "outputs": [
        {
          "output_type": "execute_result",
          "data": {
            "text/plain": [
              "(2260668, 86)"
            ]
          },
          "metadata": {
            "tags": []
          },
          "execution_count": 44
        }
      ]
    },
    {
      "cell_type": "markdown",
      "metadata": {
        "id": "XHozrHb3aXg6",
        "colab_type": "text"
      },
      "source": [
        "###c) dependent variable structure"
      ]
    },
    {
      "cell_type": "code",
      "metadata": {
        "id": "hvbLJ_haaeG7",
        "colab_type": "code",
        "colab": {
          "base_uri": "https://localhost:8080/",
          "height": 456
        },
        "outputId": "926180a3-ba5d-4cc7-eda7-a76d58331375"
      },
      "source": [
        "#checking dependent variable structure\n",
        "fig, axs = plt.subplots(1,2,figsize=(14,7))\n",
        "sns.countplot(x='target',data=loan,ax=axs[0])\n",
        "axs[0].set_title(\"Frequency of loan status\", fontsize=10)\n",
        "loan.target.value_counts().plot(x=None,y=None,kind='pie',labels=['Loan paid', 'Default'],explode=(0,0.1), ax=axs[1],autopct='%1.2f%%')\n",
        "axs[1].set_title(\"Percentage of loan status\", fontsize=10)\n",
        "plt.show()"
      ],
      "execution_count": null,
      "outputs": [
        {
          "output_type": "display_data",
          "data": {
            "image/png": "[encoded data removed]",
            "text/plain": [
              "<Figure size 1008x504 with 2 Axes>"
            ]
          },
          "metadata": {
            "tags": []
          }
        }
      ]
    },
    {
      "cell_type": "markdown",
      "metadata": {
        "id": "4VO9DPqvdlRJ",
        "colab_type": "text"
      },
      "source": [
        "As we can see, the dataset is unbalanced. There are much more people paying the loan."
      ]
    },
    {
      "cell_type": "markdown",
      "metadata": {
        "id": "ASOg8HQSfYgh",
        "colab_type": "text"
      },
      "source": [
        "###d) data types structure"
      ]
    },
    {
      "cell_type": "code",
      "metadata": {
        "id": "zyrzo181bHmO",
        "colab_type": "code",
        "colab": {
          "base_uri": "https://localhost:8080/",
          "height": 308
        },
        "outputId": "0420ad09-83e6-4169-8866-35348bb24bd6"
      },
      "source": [
        "loan.dtypes.value_counts().sort_values().plot(kind='barh')\n",
        "plt.title('Number of columns by data types',fontsize=10)\n",
        "plt.xlabel('Number of columns',fontsize=8)\n",
        "plt.ylabel('Data type',fontsize=8)\n",
        "plt.show"
      ],
      "execution_count": null,
      "outputs": [
        {
          "output_type": "execute_result",
          "data": {
            "text/plain": [
              "<function matplotlib.pyplot.show>"
            ]
          },
          "metadata": {
            "tags": []
          },
          "execution_count": 46
        },
        {
          "output_type": "display_data",
          "data": {
            "image/png": "[encoded data removed]",
            "text/plain": [
              "<Figure size 432x288 with 1 Axes>"
            ]
          },
          "metadata": {
            "tags": []
          }
        }
      ]
    },
    {
      "cell_type": "markdown",
      "metadata": {
        "id": "zkXEdb3KhPJ-",
        "colab_type": "text"
      },
      "source": [
        "The dataset contains quite a big number of categorcial columns"
      ]
    },
    {
      "cell_type": "markdown",
      "metadata": {
        "id": "e8EgT5QuhlTo",
        "colab_type": "text"
      },
      "source": [
        "###e) checking categorical columns"
      ]
    },
    {
      "cell_type": "code",
      "metadata": {
        "id": "oEE9X-aUf8nG",
        "colab_type": "code",
        "colab": {
          "base_uri": "https://localhost:8080/",
          "height": 375
        },
        "outputId": "5d9efaed-80e6-47ce-fafa-0c1201e4435a"
      },
      "source": [
        "#number of categories in each column\n",
        "loan.select_dtypes('object').apply(pd.Series.nunique, axis = 0).sort_values(ascending=False)"
      ],
      "execution_count": null,
      "outputs": [
        {
          "output_type": "execute_result",
          "data": {
            "text/plain": [
              "emp_title               512694\n",
              "title                    63155\n",
              "zip_code                   956\n",
              "earliest_cr_line           754\n",
              "last_credit_pull_d         140\n",
              "issue_d                    139\n",
              "last_pymnt_d               135\n",
              "addr_state                  51\n",
              "sub_grade                   35\n",
              "purpose                     14\n",
              "emp_length                  11\n",
              "grade                        7\n",
              "home_ownership               6\n",
              "verification_status          3\n",
              "debt_settlement_flag         2\n",
              "pymnt_plan                   2\n",
              "disbursement_method          2\n",
              "initial_list_status          2\n",
              "application_type             2\n",
              "hardship_flag                2\n",
              "term                         2\n",
              "dtype: int64"
            ]
          },
          "metadata": {
            "tags": []
          },
          "execution_count": 47
        }
      ]
    },
    {
      "cell_type": "code",
      "metadata": {
        "id": "BaDDEJC-h4V-",
        "colab_type": "code",
        "colab": {
          "base_uri": "https://localhost:8080/",
          "height": 33
        },
        "outputId": "69e1d6a5-1769-4a29-a1fb-09f4fa208d77"
      },
      "source": [
        "#dropping columns with many categories and coulmns with useless information\n",
        "useless = ['funded_amnt', 'funded_amnt_inv','issue_d','sub_grade','int_rate','emp_title',\n",
        "         'zip_code','earliest_cr_line','last_pymnt_d','last_credit_pull_d','title','addr_state']\n",
        "loan=loan.drop(useless, axis = 1)\n",
        "loan.shape"
      ],
      "execution_count": null,
      "outputs": [
        {
          "output_type": "execute_result",
          "data": {
            "text/plain": [
              "(2260668, 89)"
            ]
          },
          "metadata": {
            "tags": []
          },
          "execution_count": 11
        }
      ]
    },
    {
      "cell_type": "markdown",
      "metadata": {
        "id": "USlfhPjsWFb1",
        "colab_type": "text"
      },
      "source": [
        "We decided to drope some columns because they leak information from the future or they require a lot of pre-processing to be useful for the model."
      ]
    },
    {
      "cell_type": "code",
      "metadata": {
        "id": "gefxBGrOi7om",
        "colab_type": "code",
        "colab": {
          "base_uri": "https://localhost:8080/",
          "height": 342
        },
        "outputId": "d8a767bd-0da9-4e46-a574-7c774c6c893e"
      },
      "source": [
        "#these categorical coulumns could be changed into numeric columns\n",
        "print(loan['emp_length'].value_counts())\n",
        "print(loan['grade'].value_counts())"
      ],
      "execution_count": null,
      "outputs": [
        {
          "output_type": "stream",
          "text": [
            "10+ years    748005\n",
            "2 years      203677\n",
            "< 1 year     189988\n",
            "3 years      180753\n",
            "1 year       148403\n",
            "5 years      139698\n",
            "4 years      136605\n",
            "6 years      102628\n",
            "7 years       92695\n",
            "8 years       91914\n",
            "9 years       79395\n",
            "Name: emp_length, dtype: int64\n",
            "B    663557\n",
            "C    650053\n",
            "A    433027\n",
            "D    324424\n",
            "E    135639\n",
            "F     41800\n",
            "G     12168\n",
            "Name: grade, dtype: int64\n"
          ],
          "name": "stdout"
        }
      ]
    },
    {
      "cell_type": "code",
      "metadata": {
        "id": "8NG1jHgKjx7p",
        "colab_type": "code",
        "colab": {
          "base_uri": "https://localhost:8080/",
          "height": 292
        },
        "outputId": "46839e05-17bf-4982-c73b-8f3606027af0"
      },
      "source": [
        "#mappings\n",
        "transformation = {\n",
        "\"emp_length\": {\n",
        "\"10+ years\": 10,\n",
        "\"9 years\": 9,\n",
        "\"8 years\": 8,\n",
        "\"7 years\": 7,\n",
        "\"6 years\": 6,\n",
        "\"5 years\": 5,\n",
        "\"4 years\": 4,\n",
        "\"3 years\": 3,\n",
        "\"2 years\": 2,\n",
        "\"1 year\": 1,\n",
        "\"< 1 year\": 0,\n",
        "},\n",
        "\"grade\":{\n",
        "\"A\": 1,\n",
        "\"B\": 2,\n",
        "\"C\": 3,\n",
        "\"D\": 4,\n",
        "\"E\": 5,\n",
        "\"F\": 6,\n",
        "\"G\": 7\n",
        "}\n",
        "}\n",
        "loan = loan.replace(transformation)\n",
        "loan.head()"
      ],
      "execution_count": null,
      "outputs": [
        {
          "output_type": "execute_result",
          "data": {
            "text/html": [
              "<div>\n",
              "<style scoped>\n",
              "    .dataframe tbody tr th:only-of-type {\n",
              "        vertical-align: middle;\n",
              "    }\n",
              "\n",
              "    .dataframe tbody tr th {\n",
              "        vertical-align: top;\n",
              "    }\n",
              "\n",
              "    .dataframe thead th {\n",
              "        text-align: right;\n",
              "    }\n",
              "</style>\n",
              "<table border=\"1\" class=\"dataframe\">\n",
              "  <thead>\n",
              "    <tr style=\"text-align: right;\">\n",
              "      <th></th>\n",
              "      <th>loan_amnt</th>\n",
              "      <th>term</th>\n",
              "      <th>installment</th>\n",
              "      <th>grade</th>\n",
              "      <th>emp_length</th>\n",
              "      <th>home_ownership</th>\n",
              "      <th>annual_inc</th>\n",
              "      <th>verification_status</th>\n",
              "      <th>pymnt_plan</th>\n",
              "      <th>purpose</th>\n",
              "      <th>dti</th>\n",
              "      <th>delinq_2yrs</th>\n",
              "      <th>inq_last_6mths</th>\n",
              "      <th>open_acc</th>\n",
              "      <th>pub_rec</th>\n",
              "      <th>revol_bal</th>\n",
              "      <th>revol_util</th>\n",
              "      <th>total_acc</th>\n",
              "      <th>initial_list_status</th>\n",
              "      <th>out_prncp</th>\n",
              "      <th>out_prncp_inv</th>\n",
              "      <th>total_pymnt</th>\n",
              "      <th>total_pymnt_inv</th>\n",
              "      <th>total_rec_prncp</th>\n",
              "      <th>total_rec_int</th>\n",
              "      <th>total_rec_late_fee</th>\n",
              "      <th>recoveries</th>\n",
              "      <th>collection_recovery_fee</th>\n",
              "      <th>last_pymnt_amnt</th>\n",
              "      <th>collections_12_mths_ex_med</th>\n",
              "      <th>policy_code</th>\n",
              "      <th>application_type</th>\n",
              "      <th>acc_now_delinq</th>\n",
              "      <th>tot_coll_amt</th>\n",
              "      <th>tot_cur_bal</th>\n",
              "      <th>total_rev_hi_lim</th>\n",
              "      <th>acc_open_past_24mths</th>\n",
              "      <th>avg_cur_bal</th>\n",
              "      <th>bc_open_to_buy</th>\n",
              "      <th>bc_util</th>\n",
              "      <th>chargeoff_within_12_mths</th>\n",
              "      <th>delinq_amnt</th>\n",
              "      <th>mo_sin_old_il_acct</th>\n",
              "      <th>mo_sin_old_rev_tl_op</th>\n",
              "      <th>mo_sin_rcnt_rev_tl_op</th>\n",
              "      <th>mo_sin_rcnt_tl</th>\n",
              "      <th>mort_acc</th>\n",
              "      <th>mths_since_recent_bc</th>\n",
              "      <th>num_accts_ever_120_pd</th>\n",
              "      <th>num_actv_bc_tl</th>\n",
              "      <th>num_actv_rev_tl</th>\n",
              "      <th>num_bc_sats</th>\n",
              "      <th>num_bc_tl</th>\n",
              "      <th>num_il_tl</th>\n",
              "      <th>num_op_rev_tl</th>\n",
              "      <th>num_rev_accts</th>\n",
              "      <th>num_rev_tl_bal_gt_0</th>\n",
              "      <th>num_sats</th>\n",
              "      <th>num_tl_120dpd_2m</th>\n",
              "      <th>num_tl_30dpd</th>\n",
              "      <th>num_tl_90g_dpd_24m</th>\n",
              "      <th>num_tl_op_past_12m</th>\n",
              "      <th>pct_tl_nvr_dlq</th>\n",
              "      <th>percent_bc_gt_75</th>\n",
              "      <th>pub_rec_bankruptcies</th>\n",
              "      <th>tax_liens</th>\n",
              "      <th>tot_hi_cred_lim</th>\n",
              "      <th>total_bal_ex_mort</th>\n",
              "      <th>total_bc_limit</th>\n",
              "      <th>total_il_high_credit_limit</th>\n",
              "      <th>hardship_flag</th>\n",
              "      <th>disbursement_method</th>\n",
              "      <th>debt_settlement_flag</th>\n",
              "      <th>target</th>\n",
              "    </tr>\n",
              "  </thead>\n",
              "  <tbody>\n",
              "    <tr>\n",
              "      <th>0</th>\n",
              "      <td>2500</td>\n",
              "      <td>36 months</td>\n",
              "      <td>84.92</td>\n",
              "      <td>3</td>\n",
              "      <td>10.0</td>\n",
              "      <td>RENT</td>\n",
              "      <td>55000.0</td>\n",
              "      <td>Not Verified</td>\n",
              "      <td>n</td>\n",
              "      <td>debt_consolidation</td>\n",
              "      <td>18.24</td>\n",
              "      <td>0.0</td>\n",
              "      <td>1.0</td>\n",
              "      <td>9.0</td>\n",
              "      <td>1.0</td>\n",
              "      <td>4341</td>\n",
              "      <td>10.3</td>\n",
              "      <td>34.0</td>\n",
              "      <td>w</td>\n",
              "      <td>2386.02</td>\n",
              "      <td>2386.02</td>\n",
              "      <td>167.02</td>\n",
              "      <td>167.02</td>\n",
              "      <td>113.98</td>\n",
              "      <td>53.04</td>\n",
              "      <td>0.0</td>\n",
              "      <td>0.0</td>\n",
              "      <td>0.0</td>\n",
              "      <td>84.92</td>\n",
              "      <td>0.0</td>\n",
              "      <td>1</td>\n",
              "      <td>Individual</td>\n",
              "      <td>0.0</td>\n",
              "      <td>0.0</td>\n",
              "      <td>16901.0</td>\n",
              "      <td>42000.0</td>\n",
              "      <td>9.0</td>\n",
              "      <td>1878.0</td>\n",
              "      <td>34360.0</td>\n",
              "      <td>5.9</td>\n",
              "      <td>0.0</td>\n",
              "      <td>0.0</td>\n",
              "      <td>140.0</td>\n",
              "      <td>212.0</td>\n",
              "      <td>1.0</td>\n",
              "      <td>1.0</td>\n",
              "      <td>0.0</td>\n",
              "      <td>1.0</td>\n",
              "      <td>0.0</td>\n",
              "      <td>2.0</td>\n",
              "      <td>5.0</td>\n",
              "      <td>3.0</td>\n",
              "      <td>3.0</td>\n",
              "      <td>16.0</td>\n",
              "      <td>7.0</td>\n",
              "      <td>18.0</td>\n",
              "      <td>5.0</td>\n",
              "      <td>9.0</td>\n",
              "      <td>0.0</td>\n",
              "      <td>0.0</td>\n",
              "      <td>0.0</td>\n",
              "      <td>3.0</td>\n",
              "      <td>100.0</td>\n",
              "      <td>0.0</td>\n",
              "      <td>1.0</td>\n",
              "      <td>0.0</td>\n",
              "      <td>60124.0</td>\n",
              "      <td>16901.0</td>\n",
              "      <td>36500.0</td>\n",
              "      <td>18124.0</td>\n",
              "      <td>N</td>\n",
              "      <td>Cash</td>\n",
              "      <td>N</td>\n",
              "      <td>0</td>\n",
              "    </tr>\n",
              "    <tr>\n",
              "      <th>1</th>\n",
              "      <td>30000</td>\n",
              "      <td>60 months</td>\n",
              "      <td>777.23</td>\n",
              "      <td>4</td>\n",
              "      <td>10.0</td>\n",
              "      <td>MORTGAGE</td>\n",
              "      <td>90000.0</td>\n",
              "      <td>Source Verified</td>\n",
              "      <td>n</td>\n",
              "      <td>debt_consolidation</td>\n",
              "      <td>26.52</td>\n",
              "      <td>0.0</td>\n",
              "      <td>0.0</td>\n",
              "      <td>13.0</td>\n",
              "      <td>1.0</td>\n",
              "      <td>12315</td>\n",
              "      <td>24.2</td>\n",
              "      <td>44.0</td>\n",
              "      <td>w</td>\n",
              "      <td>29387.75</td>\n",
              "      <td>29387.75</td>\n",
              "      <td>1507.11</td>\n",
              "      <td>1507.11</td>\n",
              "      <td>612.25</td>\n",
              "      <td>894.86</td>\n",
              "      <td>0.0</td>\n",
              "      <td>0.0</td>\n",
              "      <td>0.0</td>\n",
              "      <td>777.23</td>\n",
              "      <td>0.0</td>\n",
              "      <td>1</td>\n",
              "      <td>Individual</td>\n",
              "      <td>0.0</td>\n",
              "      <td>1208.0</td>\n",
              "      <td>321915.0</td>\n",
              "      <td>50800.0</td>\n",
              "      <td>10.0</td>\n",
              "      <td>24763.0</td>\n",
              "      <td>13761.0</td>\n",
              "      <td>8.3</td>\n",
              "      <td>0.0</td>\n",
              "      <td>0.0</td>\n",
              "      <td>163.0</td>\n",
              "      <td>378.0</td>\n",
              "      <td>4.0</td>\n",
              "      <td>3.0</td>\n",
              "      <td>3.0</td>\n",
              "      <td>4.0</td>\n",
              "      <td>0.0</td>\n",
              "      <td>2.0</td>\n",
              "      <td>4.0</td>\n",
              "      <td>4.0</td>\n",
              "      <td>9.0</td>\n",
              "      <td>27.0</td>\n",
              "      <td>8.0</td>\n",
              "      <td>14.0</td>\n",
              "      <td>4.0</td>\n",
              "      <td>13.0</td>\n",
              "      <td>0.0</td>\n",
              "      <td>0.0</td>\n",
              "      <td>0.0</td>\n",
              "      <td>6.0</td>\n",
              "      <td>95.0</td>\n",
              "      <td>0.0</td>\n",
              "      <td>1.0</td>\n",
              "      <td>0.0</td>\n",
              "      <td>372872.0</td>\n",
              "      <td>99468.0</td>\n",
              "      <td>15000.0</td>\n",
              "      <td>94072.0</td>\n",
              "      <td>N</td>\n",
              "      <td>Cash</td>\n",
              "      <td>N</td>\n",
              "      <td>0</td>\n",
              "    </tr>\n",
              "    <tr>\n",
              "      <th>2</th>\n",
              "      <td>5000</td>\n",
              "      <td>36 months</td>\n",
              "      <td>180.69</td>\n",
              "      <td>4</td>\n",
              "      <td>6.0</td>\n",
              "      <td>MORTGAGE</td>\n",
              "      <td>59280.0</td>\n",
              "      <td>Source Verified</td>\n",
              "      <td>n</td>\n",
              "      <td>debt_consolidation</td>\n",
              "      <td>10.51</td>\n",
              "      <td>0.0</td>\n",
              "      <td>0.0</td>\n",
              "      <td>8.0</td>\n",
              "      <td>0.0</td>\n",
              "      <td>4599</td>\n",
              "      <td>19.1</td>\n",
              "      <td>13.0</td>\n",
              "      <td>w</td>\n",
              "      <td>4787.21</td>\n",
              "      <td>4787.21</td>\n",
              "      <td>353.89</td>\n",
              "      <td>353.89</td>\n",
              "      <td>212.79</td>\n",
              "      <td>141.10</td>\n",
              "      <td>0.0</td>\n",
              "      <td>0.0</td>\n",
              "      <td>0.0</td>\n",
              "      <td>180.69</td>\n",
              "      <td>0.0</td>\n",
              "      <td>1</td>\n",
              "      <td>Individual</td>\n",
              "      <td>0.0</td>\n",
              "      <td>0.0</td>\n",
              "      <td>110299.0</td>\n",
              "      <td>24100.0</td>\n",
              "      <td>4.0</td>\n",
              "      <td>18383.0</td>\n",
              "      <td>13800.0</td>\n",
              "      <td>0.0</td>\n",
              "      <td>0.0</td>\n",
              "      <td>0.0</td>\n",
              "      <td>87.0</td>\n",
              "      <td>92.0</td>\n",
              "      <td>15.0</td>\n",
              "      <td>14.0</td>\n",
              "      <td>2.0</td>\n",
              "      <td>77.0</td>\n",
              "      <td>0.0</td>\n",
              "      <td>0.0</td>\n",
              "      <td>3.0</td>\n",
              "      <td>3.0</td>\n",
              "      <td>3.0</td>\n",
              "      <td>4.0</td>\n",
              "      <td>6.0</td>\n",
              "      <td>7.0</td>\n",
              "      <td>3.0</td>\n",
              "      <td>8.0</td>\n",
              "      <td>0.0</td>\n",
              "      <td>0.0</td>\n",
              "      <td>0.0</td>\n",
              "      <td>0.0</td>\n",
              "      <td>100.0</td>\n",
              "      <td>0.0</td>\n",
              "      <td>0.0</td>\n",
              "      <td>0.0</td>\n",
              "      <td>136927.0</td>\n",
              "      <td>11749.0</td>\n",
              "      <td>13800.0</td>\n",
              "      <td>10000.0</td>\n",
              "      <td>N</td>\n",
              "      <td>Cash</td>\n",
              "      <td>N</td>\n",
              "      <td>0</td>\n",
              "    </tr>\n",
              "    <tr>\n",
              "      <th>3</th>\n",
              "      <td>4000</td>\n",
              "      <td>36 months</td>\n",
              "      <td>146.51</td>\n",
              "      <td>4</td>\n",
              "      <td>10.0</td>\n",
              "      <td>MORTGAGE</td>\n",
              "      <td>92000.0</td>\n",
              "      <td>Source Verified</td>\n",
              "      <td>n</td>\n",
              "      <td>debt_consolidation</td>\n",
              "      <td>16.74</td>\n",
              "      <td>0.0</td>\n",
              "      <td>0.0</td>\n",
              "      <td>10.0</td>\n",
              "      <td>0.0</td>\n",
              "      <td>5468</td>\n",
              "      <td>78.1</td>\n",
              "      <td>13.0</td>\n",
              "      <td>w</td>\n",
              "      <td>3831.93</td>\n",
              "      <td>3831.93</td>\n",
              "      <td>286.71</td>\n",
              "      <td>286.71</td>\n",
              "      <td>168.07</td>\n",
              "      <td>118.64</td>\n",
              "      <td>0.0</td>\n",
              "      <td>0.0</td>\n",
              "      <td>0.0</td>\n",
              "      <td>146.51</td>\n",
              "      <td>0.0</td>\n",
              "      <td>1</td>\n",
              "      <td>Individual</td>\n",
              "      <td>0.0</td>\n",
              "      <td>686.0</td>\n",
              "      <td>305049.0</td>\n",
              "      <td>7000.0</td>\n",
              "      <td>5.0</td>\n",
              "      <td>30505.0</td>\n",
              "      <td>1239.0</td>\n",
              "      <td>75.2</td>\n",
              "      <td>0.0</td>\n",
              "      <td>0.0</td>\n",
              "      <td>62.0</td>\n",
              "      <td>154.0</td>\n",
              "      <td>64.0</td>\n",
              "      <td>5.0</td>\n",
              "      <td>3.0</td>\n",
              "      <td>64.0</td>\n",
              "      <td>0.0</td>\n",
              "      <td>1.0</td>\n",
              "      <td>2.0</td>\n",
              "      <td>1.0</td>\n",
              "      <td>2.0</td>\n",
              "      <td>7.0</td>\n",
              "      <td>2.0</td>\n",
              "      <td>3.0</td>\n",
              "      <td>2.0</td>\n",
              "      <td>10.0</td>\n",
              "      <td>0.0</td>\n",
              "      <td>0.0</td>\n",
              "      <td>0.0</td>\n",
              "      <td>3.0</td>\n",
              "      <td>100.0</td>\n",
              "      <td>100.0</td>\n",
              "      <td>0.0</td>\n",
              "      <td>0.0</td>\n",
              "      <td>385183.0</td>\n",
              "      <td>36151.0</td>\n",
              "      <td>5000.0</td>\n",
              "      <td>44984.0</td>\n",
              "      <td>N</td>\n",
              "      <td>Cash</td>\n",
              "      <td>N</td>\n",
              "      <td>0</td>\n",
              "    </tr>\n",
              "    <tr>\n",
              "      <th>4</th>\n",
              "      <td>30000</td>\n",
              "      <td>60 months</td>\n",
              "      <td>731.78</td>\n",
              "      <td>3</td>\n",
              "      <td>10.0</td>\n",
              "      <td>MORTGAGE</td>\n",
              "      <td>57250.0</td>\n",
              "      <td>Not Verified</td>\n",
              "      <td>n</td>\n",
              "      <td>debt_consolidation</td>\n",
              "      <td>26.35</td>\n",
              "      <td>0.0</td>\n",
              "      <td>0.0</td>\n",
              "      <td>12.0</td>\n",
              "      <td>0.0</td>\n",
              "      <td>829</td>\n",
              "      <td>3.6</td>\n",
              "      <td>26.0</td>\n",
              "      <td>w</td>\n",
              "      <td>29339.02</td>\n",
              "      <td>29339.02</td>\n",
              "      <td>1423.21</td>\n",
              "      <td>1423.21</td>\n",
              "      <td>660.98</td>\n",
              "      <td>762.23</td>\n",
              "      <td>0.0</td>\n",
              "      <td>0.0</td>\n",
              "      <td>0.0</td>\n",
              "      <td>731.78</td>\n",
              "      <td>0.0</td>\n",
              "      <td>1</td>\n",
              "      <td>Individual</td>\n",
              "      <td>0.0</td>\n",
              "      <td>0.0</td>\n",
              "      <td>116007.0</td>\n",
              "      <td>23100.0</td>\n",
              "      <td>9.0</td>\n",
              "      <td>9667.0</td>\n",
              "      <td>8471.0</td>\n",
              "      <td>8.9</td>\n",
              "      <td>0.0</td>\n",
              "      <td>0.0</td>\n",
              "      <td>53.0</td>\n",
              "      <td>216.0</td>\n",
              "      <td>2.0</td>\n",
              "      <td>2.0</td>\n",
              "      <td>2.0</td>\n",
              "      <td>2.0</td>\n",
              "      <td>0.0</td>\n",
              "      <td>2.0</td>\n",
              "      <td>2.0</td>\n",
              "      <td>3.0</td>\n",
              "      <td>8.0</td>\n",
              "      <td>9.0</td>\n",
              "      <td>6.0</td>\n",
              "      <td>15.0</td>\n",
              "      <td>2.0</td>\n",
              "      <td>12.0</td>\n",
              "      <td>0.0</td>\n",
              "      <td>0.0</td>\n",
              "      <td>0.0</td>\n",
              "      <td>5.0</td>\n",
              "      <td>92.3</td>\n",
              "      <td>0.0</td>\n",
              "      <td>0.0</td>\n",
              "      <td>0.0</td>\n",
              "      <td>157548.0</td>\n",
              "      <td>29674.0</td>\n",
              "      <td>9300.0</td>\n",
              "      <td>32332.0</td>\n",
              "      <td>N</td>\n",
              "      <td>Cash</td>\n",
              "      <td>N</td>\n",
              "      <td>0</td>\n",
              "    </tr>\n",
              "  </tbody>\n",
              "</table>\n",
              "</div>"
            ],
            "text/plain": [
              "   loan_amnt        term  ...  debt_settlement_flag  target\n",
              "0       2500   36 months  ...                     N       0\n",
              "1      30000   60 months  ...                     N       0\n",
              "2       5000   36 months  ...                     N       0\n",
              "3       4000   36 months  ...                     N       0\n",
              "4      30000   60 months  ...                     N       0\n",
              "\n",
              "[5 rows x 74 columns]"
            ]
          },
          "metadata": {
            "tags": []
          },
          "execution_count": 50
        }
      ]
    },
    {
      "cell_type": "code",
      "metadata": {
        "id": "xAZeu_3YlONI",
        "colab_type": "code",
        "colab": {
          "base_uri": "https://localhost:8080/",
          "height": 196
        },
        "outputId": "0083ad11-1223-4e70-dce1-1522e56d02b7"
      },
      "source": [
        "#checking a number of categories \n",
        "loan.select_dtypes('object').apply(pd.Series.nunique, axis = 0).sort_values(ascending=False)"
      ],
      "execution_count": null,
      "outputs": [
        {
          "output_type": "execute_result",
          "data": {
            "text/plain": [
              "purpose                 14\n",
              "home_ownership           6\n",
              "verification_status      3\n",
              "debt_settlement_flag     2\n",
              "disbursement_method      2\n",
              "hardship_flag            2\n",
              "application_type         2\n",
              "initial_list_status      2\n",
              "pymnt_plan               2\n",
              "term                     2\n",
              "dtype: int64"
            ]
          },
          "metadata": {
            "tags": []
          },
          "execution_count": 51
        }
      ]
    },
    {
      "cell_type": "code",
      "metadata": {
        "id": "1Py6BUMkl-vB",
        "colab_type": "code",
        "colab": {
          "base_uri": "https://localhost:8080/",
          "height": 535
        },
        "outputId": "28fa25dc-fcde-4036-f94f-a2b6e6715f6f"
      },
      "source": [
        "#checking categories in 'purpose' and 'home ownership' column\n",
        "fig, axs = plt.subplots(1,2,figsize=(14,7))\n",
        "loan['purpose'].value_counts().plot(kind='bar',ax=axs[0])\n",
        "axs[0].set_title(\"Loan purpose\")\n",
        "loan['home_ownership'].value_counts().plot(kind='bar',ax=axs[1])\n",
        "axs[1].set_title(\"Home ownership\")\n",
        "plt.show()"
      ],
      "execution_count": null,
      "outputs": [
        {
          "output_type": "display_data",
          "data": {
            "image/png": "[encoded data removed]",
            "text/plain": [
              "<Figure size 1008x504 with 2 Axes>"
            ]
          },
          "metadata": {
            "tags": []
          }
        }
      ]
    },
    {
      "cell_type": "code",
      "metadata": {
        "id": "QUqEFGlsnPfW",
        "colab_type": "code",
        "colab": {
          "base_uri": "https://localhost:8080/",
          "height": 98
        },
        "outputId": "ae5edd7e-0185-4173-d9ed-f5cc5705487b"
      },
      "source": [
        "#reducing number of categories in home_ownership column\n",
        "loan['home_ownership']=loan['home_ownership'].replace(['ANY', 'NONE'], 'OTHER')\n",
        "loan['home_ownership'].value_counts()"
      ],
      "execution_count": null,
      "outputs": [
        {
          "output_type": "execute_result",
          "data": {
            "text/plain": [
              "MORTGAGE    1111450\n",
              "RENT         894929\n",
              "OWN          253057\n",
              "OTHER          1232\n",
              "Name: home_ownership, dtype: int64"
            ]
          },
          "metadata": {
            "tags": []
          },
          "execution_count": 53
        }
      ]
    },
    {
      "cell_type": "code",
      "metadata": {
        "id": "pom_8FnBnU8B",
        "colab_type": "code",
        "colab": {
          "base_uri": "https://localhost:8080/",
          "height": 115
        },
        "outputId": "f30d831b-b052-436f-bc87-8de25cdcb89b"
      },
      "source": [
        "#reducing number of categories in purpose column\n",
        "col = ['major_purchase','medical','small_business','car', 'vacation','moving','house','wedding', 'renewable_energy', 'educational']\n",
        "loan['purpose']=loan['purpose'].replace(col, 'Special')\n",
        "loan['purpose'].value_counts()"
      ],
      "execution_count": null,
      "outputs": [
        {
          "output_type": "execute_result",
          "data": {
            "text/plain": [
              "debt_consolidation    1277877\n",
              "credit_card            516971\n",
              "Special                175923\n",
              "home_improvement       150457\n",
              "other                  139440\n",
              "Name: purpose, dtype: int64"
            ]
          },
          "metadata": {
            "tags": []
          },
          "execution_count": 54
        }
      ]
    },
    {
      "cell_type": "markdown",
      "metadata": {
        "id": "ovPfD0w1oMLJ",
        "colab_type": "text"
      },
      "source": [
        "###f) numerical columns"
      ]
    },
    {
      "cell_type": "code",
      "metadata": {
        "id": "jPP_AOYXp1ww",
        "colab_type": "code",
        "colab": {}
      },
      "source": [
        "#changing dictionary column names\n",
        "dictionary = dictionary.rename(columns={'LoanStatNew': 'Name', 'Description': 'Description'})"
      ],
      "execution_count": null,
      "outputs": []
    },
    {
      "cell_type": "code",
      "metadata": {
        "id": "RiUTrU2Btz1D",
        "colab_type": "code",
        "colab": {}
      },
      "source": [
        "#joining two datasets (loans and dictionary)\n",
        "loans_dtypes = pd.DataFrame(loan.dtypes,columns=['Dtypes'])\n",
        "loans_dtypes = loans_dtypes.reset_index()\n",
        "loans_dtypes['Name'] = loans_dtypes['index']\n",
        "loans_dtypes = loans_dtypes[['Name','Dtypes']]\n",
        "loans_dtypes['First value'] = loan.loc[0].values\n",
        "preview = loans_dtypes.merge(dictionary, on='Name',how='left')"
      ],
      "execution_count": null,
      "outputs": []
    },
    {
      "cell_type": "code",
      "metadata": {
        "id": "9YFbzEjaukKL",
        "colab_type": "code",
        "colab": {}
      },
      "source": [
        "#pandas settings to see whole 'description'column\n",
        "pd.options.display.max_rows\n",
        "pd.set_option('display.max_colwidth', -1)  "
      ],
      "execution_count": null,
      "outputs": []
    },
    {
      "cell_type": "code",
      "metadata": {
        "id": "JU-5E52yurLT",
        "colab_type": "code",
        "colab": {
          "base_uri": "https://localhost:8080/",
          "height": 1000
        },
        "outputId": "a91e1819-5d4b-4376-812c-451925d547f2"
      },
      "source": [
        "#checking numeric columns\n",
        "preview[(preview.values  == \"float64\")|(preview.values  == \"int64\" )]"
      ],
      "execution_count": null,
      "outputs": [
        {
          "output_type": "execute_result",
          "data": {
            "text/html": [
              "<div>\n",
              "<style scoped>\n",
              "    .dataframe tbody tr th:only-of-type {\n",
              "        vertical-align: middle;\n",
              "    }\n",
              "\n",
              "    .dataframe tbody tr th {\n",
              "        vertical-align: top;\n",
              "    }\n",
              "\n",
              "    .dataframe thead th {\n",
              "        text-align: right;\n",
              "    }\n",
              "</style>\n",
              "<table border=\"1\" class=\"dataframe\">\n",
              "  <thead>\n",
              "    <tr style=\"text-align: right;\">\n",
              "      <th></th>\n",
              "      <th>Name</th>\n",
              "      <th>Dtypes</th>\n",
              "      <th>First value</th>\n",
              "      <th>Description</th>\n",
              "    </tr>\n",
              "  </thead>\n",
              "  <tbody>\n",
              "    <tr>\n",
              "      <th>0</th>\n",
              "      <td>loan_amnt</td>\n",
              "      <td>int64</td>\n",
              "      <td>2500</td>\n",
              "      <td>The listed amount of the loan applied for by the borrower. If at some point in time, the credit department reduces the loan amount, then it will be reflected in this value.</td>\n",
              "    </tr>\n",
              "    <tr>\n",
              "      <th>2</th>\n",
              "      <td>installment</td>\n",
              "      <td>float64</td>\n",
              "      <td>84.92</td>\n",
              "      <td>The monthly payment owed by the borrower if the loan originates.</td>\n",
              "    </tr>\n",
              "    <tr>\n",
              "      <th>3</th>\n",
              "      <td>grade</td>\n",
              "      <td>int64</td>\n",
              "      <td>3</td>\n",
              "      <td>LC assigned loan grade</td>\n",
              "    </tr>\n",
              "    <tr>\n",
              "      <th>4</th>\n",
              "      <td>emp_length</td>\n",
              "      <td>float64</td>\n",
              "      <td>10</td>\n",
              "      <td>Employment length in years. Possible values are between 0 and 10 where 0 means less than one year and 10 means ten or more years.</td>\n",
              "    </tr>\n",
              "    <tr>\n",
              "      <th>6</th>\n",
              "      <td>annual_inc</td>\n",
              "      <td>float64</td>\n",
              "      <td>55000</td>\n",
              "      <td>The self-reported annual income provided by the borrower during registration.</td>\n",
              "    </tr>\n",
              "    <tr>\n",
              "      <th>10</th>\n",
              "      <td>dti</td>\n",
              "      <td>float64</td>\n",
              "      <td>18.24</td>\n",
              "      <td>A ratio calculated using the borrower’s total monthly debt payments on the total debt obligations, excluding mortgage and the requested LC loan, divided by the borrower’s self-reported monthly income.</td>\n",
              "    </tr>\n",
              "    <tr>\n",
              "      <th>11</th>\n",
              "      <td>delinq_2yrs</td>\n",
              "      <td>float64</td>\n",
              "      <td>0</td>\n",
              "      <td>The number of 30+ days past-due incidences of delinquency in the borrower's credit file for the past 2 years</td>\n",
              "    </tr>\n",
              "    <tr>\n",
              "      <th>12</th>\n",
              "      <td>inq_last_6mths</td>\n",
              "      <td>float64</td>\n",
              "      <td>1</td>\n",
              "      <td>The number of inquiries in past 6 months (excluding auto and mortgage inquiries)</td>\n",
              "    </tr>\n",
              "    <tr>\n",
              "      <th>13</th>\n",
              "      <td>open_acc</td>\n",
              "      <td>float64</td>\n",
              "      <td>9</td>\n",
              "      <td>The number of open credit lines in the borrower's credit file.</td>\n",
              "    </tr>\n",
              "    <tr>\n",
              "      <th>14</th>\n",
              "      <td>pub_rec</td>\n",
              "      <td>float64</td>\n",
              "      <td>1</td>\n",
              "      <td>Number of derogatory public records</td>\n",
              "    </tr>\n",
              "    <tr>\n",
              "      <th>15</th>\n",
              "      <td>revol_bal</td>\n",
              "      <td>int64</td>\n",
              "      <td>4341</td>\n",
              "      <td>Total credit revolving balance</td>\n",
              "    </tr>\n",
              "    <tr>\n",
              "      <th>16</th>\n",
              "      <td>revol_util</td>\n",
              "      <td>float64</td>\n",
              "      <td>10.3</td>\n",
              "      <td>Revolving line utilization rate, or the amount of credit the borrower is using relative to all available revolving credit.</td>\n",
              "    </tr>\n",
              "    <tr>\n",
              "      <th>17</th>\n",
              "      <td>total_acc</td>\n",
              "      <td>float64</td>\n",
              "      <td>34</td>\n",
              "      <td>The total number of credit lines currently in the borrower's credit file</td>\n",
              "    </tr>\n",
              "    <tr>\n",
              "      <th>19</th>\n",
              "      <td>out_prncp</td>\n",
              "      <td>float64</td>\n",
              "      <td>2386.02</td>\n",
              "      <td>Remaining outstanding principal for total amount funded</td>\n",
              "    </tr>\n",
              "    <tr>\n",
              "      <th>20</th>\n",
              "      <td>out_prncp_inv</td>\n",
              "      <td>float64</td>\n",
              "      <td>2386.02</td>\n",
              "      <td>Remaining outstanding principal for portion of total amount funded by investors</td>\n",
              "    </tr>\n",
              "    <tr>\n",
              "      <th>21</th>\n",
              "      <td>total_pymnt</td>\n",
              "      <td>float64</td>\n",
              "      <td>167.02</td>\n",
              "      <td>Payments received to date for total amount funded</td>\n",
              "    </tr>\n",
              "    <tr>\n",
              "      <th>22</th>\n",
              "      <td>total_pymnt_inv</td>\n",
              "      <td>float64</td>\n",
              "      <td>167.02</td>\n",
              "      <td>Payments received to date for portion of total amount funded by investors</td>\n",
              "    </tr>\n",
              "    <tr>\n",
              "      <th>23</th>\n",
              "      <td>total_rec_prncp</td>\n",
              "      <td>float64</td>\n",
              "      <td>113.98</td>\n",
              "      <td>Principal received to date</td>\n",
              "    </tr>\n",
              "    <tr>\n",
              "      <th>24</th>\n",
              "      <td>total_rec_int</td>\n",
              "      <td>float64</td>\n",
              "      <td>53.04</td>\n",
              "      <td>Interest received to date</td>\n",
              "    </tr>\n",
              "    <tr>\n",
              "      <th>25</th>\n",
              "      <td>total_rec_late_fee</td>\n",
              "      <td>float64</td>\n",
              "      <td>0</td>\n",
              "      <td>Late fees received to date</td>\n",
              "    </tr>\n",
              "    <tr>\n",
              "      <th>26</th>\n",
              "      <td>recoveries</td>\n",
              "      <td>float64</td>\n",
              "      <td>0</td>\n",
              "      <td>post charge off gross recovery</td>\n",
              "    </tr>\n",
              "    <tr>\n",
              "      <th>27</th>\n",
              "      <td>collection_recovery_fee</td>\n",
              "      <td>float64</td>\n",
              "      <td>0</td>\n",
              "      <td>post charge off collection fee</td>\n",
              "    </tr>\n",
              "    <tr>\n",
              "      <th>28</th>\n",
              "      <td>last_pymnt_amnt</td>\n",
              "      <td>float64</td>\n",
              "      <td>84.92</td>\n",
              "      <td>Last total payment amount received</td>\n",
              "    </tr>\n",
              "    <tr>\n",
              "      <th>29</th>\n",
              "      <td>collections_12_mths_ex_med</td>\n",
              "      <td>float64</td>\n",
              "      <td>0</td>\n",
              "      <td>Number of collections in 12 months excluding medical collections</td>\n",
              "    </tr>\n",
              "    <tr>\n",
              "      <th>30</th>\n",
              "      <td>policy_code</td>\n",
              "      <td>int64</td>\n",
              "      <td>1</td>\n",
              "      <td>publicly available policy_code=1\\nnew products not publicly available policy_code=2</td>\n",
              "    </tr>\n",
              "    <tr>\n",
              "      <th>32</th>\n",
              "      <td>acc_now_delinq</td>\n",
              "      <td>float64</td>\n",
              "      <td>0</td>\n",
              "      <td>The number of accounts on which the borrower is now delinquent.</td>\n",
              "    </tr>\n",
              "    <tr>\n",
              "      <th>33</th>\n",
              "      <td>tot_coll_amt</td>\n",
              "      <td>float64</td>\n",
              "      <td>0</td>\n",
              "      <td>Total collection amounts ever owed</td>\n",
              "    </tr>\n",
              "    <tr>\n",
              "      <th>34</th>\n",
              "      <td>tot_cur_bal</td>\n",
              "      <td>float64</td>\n",
              "      <td>16901</td>\n",
              "      <td>Total current balance of all accounts</td>\n",
              "    </tr>\n",
              "    <tr>\n",
              "      <th>35</th>\n",
              "      <td>total_rev_hi_lim</td>\n",
              "      <td>float64</td>\n",
              "      <td>42000</td>\n",
              "      <td>NaN</td>\n",
              "    </tr>\n",
              "    <tr>\n",
              "      <th>36</th>\n",
              "      <td>acc_open_past_24mths</td>\n",
              "      <td>float64</td>\n",
              "      <td>9</td>\n",
              "      <td>Number of trades opened in past 24 months.</td>\n",
              "    </tr>\n",
              "    <tr>\n",
              "      <th>...</th>\n",
              "      <td>...</td>\n",
              "      <td>...</td>\n",
              "      <td>...</td>\n",
              "      <td>...</td>\n",
              "    </tr>\n",
              "    <tr>\n",
              "      <th>41</th>\n",
              "      <td>delinq_amnt</td>\n",
              "      <td>float64</td>\n",
              "      <td>0</td>\n",
              "      <td>The past-due amount owed for the accounts on which the borrower is now delinquent.</td>\n",
              "    </tr>\n",
              "    <tr>\n",
              "      <th>42</th>\n",
              "      <td>mo_sin_old_il_acct</td>\n",
              "      <td>float64</td>\n",
              "      <td>140</td>\n",
              "      <td>Months since oldest bank installment account opened</td>\n",
              "    </tr>\n",
              "    <tr>\n",
              "      <th>43</th>\n",
              "      <td>mo_sin_old_rev_tl_op</td>\n",
              "      <td>float64</td>\n",
              "      <td>212</td>\n",
              "      <td>Months since oldest revolving account opened</td>\n",
              "    </tr>\n",
              "    <tr>\n",
              "      <th>44</th>\n",
              "      <td>mo_sin_rcnt_rev_tl_op</td>\n",
              "      <td>float64</td>\n",
              "      <td>1</td>\n",
              "      <td>Months since most recent revolving account opened</td>\n",
              "    </tr>\n",
              "    <tr>\n",
              "      <th>45</th>\n",
              "      <td>mo_sin_rcnt_tl</td>\n",
              "      <td>float64</td>\n",
              "      <td>1</td>\n",
              "      <td>Months since most recent account opened</td>\n",
              "    </tr>\n",
              "    <tr>\n",
              "      <th>46</th>\n",
              "      <td>mort_acc</td>\n",
              "      <td>float64</td>\n",
              "      <td>0</td>\n",
              "      <td>Number of mortgage accounts.</td>\n",
              "    </tr>\n",
              "    <tr>\n",
              "      <th>47</th>\n",
              "      <td>mths_since_recent_bc</td>\n",
              "      <td>float64</td>\n",
              "      <td>1</td>\n",
              "      <td>Months since most recent bankcard account opened.</td>\n",
              "    </tr>\n",
              "    <tr>\n",
              "      <th>48</th>\n",
              "      <td>num_accts_ever_120_pd</td>\n",
              "      <td>float64</td>\n",
              "      <td>0</td>\n",
              "      <td>Number of accounts ever 120 or more days past due</td>\n",
              "    </tr>\n",
              "    <tr>\n",
              "      <th>49</th>\n",
              "      <td>num_actv_bc_tl</td>\n",
              "      <td>float64</td>\n",
              "      <td>2</td>\n",
              "      <td>Number of currently active bankcard accounts</td>\n",
              "    </tr>\n",
              "    <tr>\n",
              "      <th>50</th>\n",
              "      <td>num_actv_rev_tl</td>\n",
              "      <td>float64</td>\n",
              "      <td>5</td>\n",
              "      <td>Number of currently active revolving trades</td>\n",
              "    </tr>\n",
              "    <tr>\n",
              "      <th>51</th>\n",
              "      <td>num_bc_sats</td>\n",
              "      <td>float64</td>\n",
              "      <td>3</td>\n",
              "      <td>Number of satisfactory bankcard accounts</td>\n",
              "    </tr>\n",
              "    <tr>\n",
              "      <th>52</th>\n",
              "      <td>num_bc_tl</td>\n",
              "      <td>float64</td>\n",
              "      <td>3</td>\n",
              "      <td>Number of bankcard accounts</td>\n",
              "    </tr>\n",
              "    <tr>\n",
              "      <th>53</th>\n",
              "      <td>num_il_tl</td>\n",
              "      <td>float64</td>\n",
              "      <td>16</td>\n",
              "      <td>Number of installment accounts</td>\n",
              "    </tr>\n",
              "    <tr>\n",
              "      <th>54</th>\n",
              "      <td>num_op_rev_tl</td>\n",
              "      <td>float64</td>\n",
              "      <td>7</td>\n",
              "      <td>Number of open revolving accounts</td>\n",
              "    </tr>\n",
              "    <tr>\n",
              "      <th>55</th>\n",
              "      <td>num_rev_accts</td>\n",
              "      <td>float64</td>\n",
              "      <td>18</td>\n",
              "      <td>Number of revolving accounts</td>\n",
              "    </tr>\n",
              "    <tr>\n",
              "      <th>56</th>\n",
              "      <td>num_rev_tl_bal_gt_0</td>\n",
              "      <td>float64</td>\n",
              "      <td>5</td>\n",
              "      <td>Number of revolving trades with balance &gt;0</td>\n",
              "    </tr>\n",
              "    <tr>\n",
              "      <th>57</th>\n",
              "      <td>num_sats</td>\n",
              "      <td>float64</td>\n",
              "      <td>9</td>\n",
              "      <td>Number of satisfactory accounts</td>\n",
              "    </tr>\n",
              "    <tr>\n",
              "      <th>58</th>\n",
              "      <td>num_tl_120dpd_2m</td>\n",
              "      <td>float64</td>\n",
              "      <td>0</td>\n",
              "      <td>Number of accounts currently 120 days past due (updated in past 2 months)</td>\n",
              "    </tr>\n",
              "    <tr>\n",
              "      <th>59</th>\n",
              "      <td>num_tl_30dpd</td>\n",
              "      <td>float64</td>\n",
              "      <td>0</td>\n",
              "      <td>Number of accounts currently 30 days past due (updated in past 2 months)</td>\n",
              "    </tr>\n",
              "    <tr>\n",
              "      <th>60</th>\n",
              "      <td>num_tl_90g_dpd_24m</td>\n",
              "      <td>float64</td>\n",
              "      <td>0</td>\n",
              "      <td>Number of accounts 90 or more days past due in last 24 months</td>\n",
              "    </tr>\n",
              "    <tr>\n",
              "      <th>61</th>\n",
              "      <td>num_tl_op_past_12m</td>\n",
              "      <td>float64</td>\n",
              "      <td>3</td>\n",
              "      <td>Number of accounts opened in past 12 months</td>\n",
              "    </tr>\n",
              "    <tr>\n",
              "      <th>62</th>\n",
              "      <td>pct_tl_nvr_dlq</td>\n",
              "      <td>float64</td>\n",
              "      <td>100</td>\n",
              "      <td>Percent of trades never delinquent</td>\n",
              "    </tr>\n",
              "    <tr>\n",
              "      <th>63</th>\n",
              "      <td>percent_bc_gt_75</td>\n",
              "      <td>float64</td>\n",
              "      <td>0</td>\n",
              "      <td>Percentage of all bankcard accounts &gt; 75% of limit.</td>\n",
              "    </tr>\n",
              "    <tr>\n",
              "      <th>64</th>\n",
              "      <td>pub_rec_bankruptcies</td>\n",
              "      <td>float64</td>\n",
              "      <td>1</td>\n",
              "      <td>Number of public record bankruptcies</td>\n",
              "    </tr>\n",
              "    <tr>\n",
              "      <th>65</th>\n",
              "      <td>tax_liens</td>\n",
              "      <td>float64</td>\n",
              "      <td>0</td>\n",
              "      <td>Number of tax liens</td>\n",
              "    </tr>\n",
              "    <tr>\n",
              "      <th>66</th>\n",
              "      <td>tot_hi_cred_lim</td>\n",
              "      <td>float64</td>\n",
              "      <td>60124</td>\n",
              "      <td>Total high credit/credit limit</td>\n",
              "    </tr>\n",
              "    <tr>\n",
              "      <th>67</th>\n",
              "      <td>total_bal_ex_mort</td>\n",
              "      <td>float64</td>\n",
              "      <td>16901</td>\n",
              "      <td>Total credit balance excluding mortgage</td>\n",
              "    </tr>\n",
              "    <tr>\n",
              "      <th>68</th>\n",
              "      <td>total_bc_limit</td>\n",
              "      <td>float64</td>\n",
              "      <td>36500</td>\n",
              "      <td>Total bankcard high credit/credit limit</td>\n",
              "    </tr>\n",
              "    <tr>\n",
              "      <th>69</th>\n",
              "      <td>total_il_high_credit_limit</td>\n",
              "      <td>float64</td>\n",
              "      <td>18124</td>\n",
              "      <td>Total installment high credit/credit limit</td>\n",
              "    </tr>\n",
              "    <tr>\n",
              "      <th>73</th>\n",
              "      <td>target</td>\n",
              "      <td>int64</td>\n",
              "      <td>0</td>\n",
              "      <td>NaN</td>\n",
              "    </tr>\n",
              "  </tbody>\n",
              "</table>\n",
              "<p>64 rows × 4 columns</p>\n",
              "</div>"
            ],
            "text/plain": [
              "                          Name  ...                                                                                                                                                                                               Description\n",
              "0   loan_amnt                   ...  The listed amount of the loan applied for by the borrower. If at some point in time, the credit department reduces the loan amount, then it will be reflected in this value.                            \n",
              "2   installment                 ...  The monthly payment owed by the borrower if the loan originates.                                                                                                                                        \n",
              "3   grade                       ...  LC assigned loan grade                                                                                                                                                                                  \n",
              "4   emp_length                  ...  Employment length in years. Possible values are between 0 and 10 where 0 means less than one year and 10 means ten or more years.                                                                       \n",
              "6   annual_inc                  ...  The self-reported annual income provided by the borrower during registration.                                                                                                                           \n",
              "10  dti                         ...  A ratio calculated using the borrower’s total monthly debt payments on the total debt obligations, excluding mortgage and the requested LC loan, divided by the borrower’s self-reported monthly income.\n",
              "11  delinq_2yrs                 ...  The number of 30+ days past-due incidences of delinquency in the borrower's credit file for the past 2 years                                                                                            \n",
              "12  inq_last_6mths              ...  The number of inquiries in past 6 months (excluding auto and mortgage inquiries)                                                                                                                        \n",
              "13  open_acc                    ...  The number of open credit lines in the borrower's credit file.                                                                                                                                          \n",
              "14  pub_rec                     ...  Number of derogatory public records                                                                                                                                                                     \n",
              "15  revol_bal                   ...  Total credit revolving balance                                                                                                                                                                          \n",
              "16  revol_util                  ...  Revolving line utilization rate, or the amount of credit the borrower is using relative to all available revolving credit.                                                                              \n",
              "17  total_acc                   ...  The total number of credit lines currently in the borrower's credit file                                                                                                                                \n",
              "19  out_prncp                   ...  Remaining outstanding principal for total amount funded                                                                                                                                                 \n",
              "20  out_prncp_inv               ...  Remaining outstanding principal for portion of total amount funded by investors                                                                                                                         \n",
              "21  total_pymnt                 ...  Payments received to date for total amount funded                                                                                                                                                       \n",
              "22  total_pymnt_inv             ...  Payments received to date for portion of total amount funded by investors                                                                                                                               \n",
              "23  total_rec_prncp             ...  Principal received to date                                                                                                                                                                              \n",
              "24  total_rec_int               ...  Interest received to date                                                                                                                                                                               \n",
              "25  total_rec_late_fee          ...  Late fees received to date                                                                                                                                                                              \n",
              "26  recoveries                  ...  post charge off gross recovery                                                                                                                                                                          \n",
              "27  collection_recovery_fee     ...  post charge off collection fee                                                                                                                                                                          \n",
              "28  last_pymnt_amnt             ...  Last total payment amount received                                                                                                                                                                      \n",
              "29  collections_12_mths_ex_med  ...  Number of collections in 12 months excluding medical collections                                                                                                                                        \n",
              "30  policy_code                 ...  publicly available policy_code=1\\nnew products not publicly available policy_code=2                                                                                                                     \n",
              "32  acc_now_delinq              ...  The number of accounts on which the borrower is now delinquent.                                                                                                                                         \n",
              "33  tot_coll_amt                ...  Total collection amounts ever owed                                                                                                                                                                      \n",
              "34  tot_cur_bal                 ...  Total current balance of all accounts                                                                                                                                                                   \n",
              "35  total_rev_hi_lim            ...  NaN                                                                                                                                                                                                     \n",
              "36  acc_open_past_24mths        ...  Number of trades opened in past 24 months.                                                                                                                                                              \n",
              "..                   ...        ...                                         ...                                                                                                                                                              \n",
              "41  delinq_amnt                 ...  The past-due amount owed for the accounts on which the borrower is now delinquent.                                                                                                                      \n",
              "42  mo_sin_old_il_acct          ...  Months since oldest bank installment account opened                                                                                                                                                     \n",
              "43  mo_sin_old_rev_tl_op        ...  Months since oldest revolving account opened                                                                                                                                                            \n",
              "44  mo_sin_rcnt_rev_tl_op       ...  Months since most recent revolving account opened                                                                                                                                                       \n",
              "45  mo_sin_rcnt_tl              ...  Months since most recent account opened                                                                                                                                                                 \n",
              "46  mort_acc                    ...  Number of mortgage accounts.                                                                                                                                                                            \n",
              "47  mths_since_recent_bc        ...  Months since most recent bankcard account opened.                                                                                                                                                       \n",
              "48  num_accts_ever_120_pd       ...  Number of accounts ever 120 or more days past due                                                                                                                                                       \n",
              "49  num_actv_bc_tl              ...  Number of currently active bankcard accounts                                                                                                                                                            \n",
              "50  num_actv_rev_tl             ...  Number of currently active revolving trades                                                                                                                                                             \n",
              "51  num_bc_sats                 ...  Number of satisfactory bankcard accounts                                                                                                                                                                \n",
              "52  num_bc_tl                   ...  Number of bankcard accounts                                                                                                                                                                             \n",
              "53  num_il_tl                   ...  Number of installment accounts                                                                                                                                                                          \n",
              "54  num_op_rev_tl               ...  Number of open revolving accounts                                                                                                                                                                       \n",
              "55  num_rev_accts               ...  Number of revolving accounts                                                                                                                                                                            \n",
              "56  num_rev_tl_bal_gt_0         ...  Number of revolving trades with balance >0                                                                                                                                                              \n",
              "57  num_sats                    ...  Number of satisfactory accounts                                                                                                                                                                         \n",
              "58  num_tl_120dpd_2m            ...  Number of accounts currently 120 days past due (updated in past 2 months)                                                                                                                               \n",
              "59  num_tl_30dpd                ...  Number of accounts currently 30 days past due (updated in past 2 months)                                                                                                                                \n",
              "60  num_tl_90g_dpd_24m          ...  Number of accounts 90 or more days past due in last 24 months                                                                                                                                           \n",
              "61  num_tl_op_past_12m          ...  Number of accounts opened in past 12 months                                                                                                                                                             \n",
              "62  pct_tl_nvr_dlq              ...  Percent of trades never delinquent                                                                                                                                                                      \n",
              "63  percent_bc_gt_75            ...  Percentage of all bankcard accounts > 75% of limit.                                                                                                                                                     \n",
              "64  pub_rec_bankruptcies        ...  Number of public record bankruptcies                                                                                                                                                                    \n",
              "65  tax_liens                   ...  Number of tax liens                                                                                                                                                                                     \n",
              "66  tot_hi_cred_lim             ...  Total high credit/credit limit                                                                                                                                                                          \n",
              "67  total_bal_ex_mort           ...  Total credit balance excluding mortgage                                                                                                                                                                 \n",
              "68  total_bc_limit              ...  Total bankcard high credit/credit limit                                                                                                                                                                 \n",
              "69  total_il_high_credit_limit  ...  Total installment high credit/credit limit                                                                                                                                                              \n",
              "73  target                      ...  NaN                                                                                                                                                                                                     \n",
              "\n",
              "[64 rows x 4 columns]"
            ]
          },
          "metadata": {
            "tags": []
          },
          "execution_count": 58
        }
      ]
    },
    {
      "cell_type": "code",
      "metadata": {
        "id": "55fIYcFQu356",
        "colab_type": "code",
        "colab": {
          "base_uri": "https://localhost:8080/",
          "height": 33
        },
        "outputId": "39fb55fc-28bf-400e-d196-1952080d3e99"
      },
      "source": [
        "#dropping columns with useless information\n",
        "useless_2 = ['out_prncp','out_prncp_inv','total_pymnt','total_pymnt_inv',\n",
        "           'total_rec_prncp','total_rec_int','total_rec_late_fee','recoveries',\n",
        "            'collection_recovery_fee','last_pymnt_amnt']\n",
        "loan=loan.drop(useless_2, axis = 1)\n",
        "loan.shape"
      ],
      "execution_count": null,
      "outputs": [
        {
          "output_type": "execute_result",
          "data": {
            "text/plain": [
              "(2260668, 64)"
            ]
          },
          "metadata": {
            "tags": []
          },
          "execution_count": 59
        }
      ]
    },
    {
      "cell_type": "markdown",
      "metadata": {
        "id": "0n1Tom8DcH3h",
        "colab_type": "text"
      },
      "source": [
        "Again, we decided to drop some columns because they contain redundant information."
      ]
    },
    {
      "cell_type": "markdown",
      "metadata": {
        "id": "lLyCy0KIwrya",
        "colab_type": "text"
      },
      "source": [
        "###g) noise cleaning"
      ]
    },
    {
      "cell_type": "code",
      "metadata": {
        "id": "ueArgWjMwqyE",
        "colab_type": "code",
        "colab": {
          "base_uri": "https://localhost:8080/",
          "height": 33
        },
        "outputId": "f3ab4dee-4b37-412d-9661-a9ca091b52ef"
      },
      "source": [
        "#dropping columns with only one value\n",
        "loan = loan.loc[:,loan.apply(pd.Series.nunique) != 1]\n",
        "loan.shape"
      ],
      "execution_count": null,
      "outputs": [
        {
          "output_type": "execute_result",
          "data": {
            "text/plain": [
              "(2260668, 63)"
            ]
          },
          "metadata": {
            "tags": []
          },
          "execution_count": 60
        }
      ]
    },
    {
      "cell_type": "code",
      "metadata": {
        "id": "lPVd6JUvvfr0",
        "colab_type": "code",
        "colab": {}
      },
      "source": [
        "def getDuplicateColumns(df):\n",
        "    \n",
        "    duplicateColumnNames = set()\n",
        "    for x in range(df.shape[1]):\n",
        "        col = df.iloc[:, x]\n",
        "        for y in range(x + 1, df.shape[1]):\n",
        "            otherCol = df.iloc[:, y]\n",
        "            if col.equals(otherCol):\n",
        "                duplicateColumnNames.add(df.columns.values[y])\n",
        " \n",
        "    return list(duplicateColumnNames)"
      ],
      "execution_count": null,
      "outputs": []
    },
    {
      "cell_type": "code",
      "metadata": {
        "id": "B0PeLg8ByDpU",
        "colab_type": "code",
        "colab": {
          "base_uri": "https://localhost:8080/",
          "height": 33
        },
        "outputId": "cc717db5-3b70-48bb-b60e-2148f824b51d"
      },
      "source": [
        "#checking duplicated columns\n",
        "getDuplicateColumns(loan)"
      ],
      "execution_count": null,
      "outputs": [
        {
          "output_type": "execute_result",
          "data": {
            "text/plain": [
              "[]"
            ]
          },
          "metadata": {
            "tags": []
          },
          "execution_count": 62
        }
      ]
    },
    {
      "cell_type": "markdown",
      "metadata": {
        "id": "guKu-XrRZJHE",
        "colab_type": "text"
      },
      "source": [
        "The dataset doesn't contain duplicated columns."
      ]
    },
    {
      "cell_type": "code",
      "metadata": {
        "id": "VZRTK3K9y8wa",
        "colab_type": "code",
        "colab": {
          "base_uri": "https://localhost:8080/",
          "height": 33
        },
        "outputId": "649b8019-9deb-498f-8dda-5e4060e44197"
      },
      "source": [
        "#checking duplicated rows\n",
        "loan.duplicated(subset=None, keep='first')\n",
        "loan.shape"
      ],
      "execution_count": null,
      "outputs": [
        {
          "output_type": "execute_result",
          "data": {
            "text/plain": [
              "(2260668, 63)"
            ]
          },
          "metadata": {
            "tags": []
          },
          "execution_count": 63
        }
      ]
    },
    {
      "cell_type": "markdown",
      "metadata": {
        "id": "NgtGbtG0Dl5l",
        "colab_type": "text"
      },
      "source": [
        "Lack of duplicated columns and rows"
      ]
    },
    {
      "cell_type": "markdown",
      "metadata": {
        "id": "-of981_7EKbM",
        "colab_type": "text"
      },
      "source": [
        "#Pre-processing"
      ]
    },
    {
      "cell_type": "code",
      "metadata": {
        "id": "LY1vkCKkEG_Y",
        "colab_type": "code",
        "colab": {}
      },
      "source": [
        "#splitting the dataset\n",
        "X=loan.drop(['target'],axis=1)\n",
        "y=loan['target']\n",
        "X_train, X_test, y_train, y_test = train_test_split(X,y,test_size=0.3,random_state=123)"
      ],
      "execution_count": null,
      "outputs": []
    },
    {
      "cell_type": "code",
      "metadata": {
        "id": "CLshMJeDGp1W",
        "colab_type": "code",
        "colab": {}
      },
      "source": [
        "#chosing columns for pre-procesingu\n",
        "categorical = list(X_train.select_dtypes('object').columns)\n",
        "numeric = list(X_train.select_dtypes(['float64','int64']).columns)"
      ],
      "execution_count": null,
      "outputs": []
    },
    {
      "cell_type": "code",
      "metadata": {
        "id": "87nzJfrnG3pU",
        "colab_type": "code",
        "colab": {}
      },
      "source": [
        "#preparing pipeline for pre-processing\n",
        "\n",
        "class DataFrameSelector(BaseEstimator, TransformerMixin):\n",
        "    def __init__(self, attribute_names):\n",
        "        self.attribute_names = attribute_names\n",
        "    def fit(self, X, y=None):\n",
        "        return self\n",
        "    def transform(self, X):\n",
        "        return X[self.attribute_names]\n",
        "\n",
        "num_pipeline = Pipeline([\n",
        "        (\"select_numeric\", DataFrameSelector(numeric)),\n",
        "        (\"imputer\", SimpleImputer(strategy=\"median\")),\n",
        "      \n",
        "    ])\n",
        "\n",
        "class MostFrequentImputer(BaseEstimator, TransformerMixin):\n",
        "    def fit(self, X, y=None):\n",
        "        self.most_frequent_ = pd.Series([X[c].value_counts().index[0] for c in X],\n",
        "                                        index=X.columns)\n",
        "        return self\n",
        "    def transform(self, X, y=None):\n",
        "        return X.fillna(self.most_frequent_)\n",
        "    \n",
        "\n",
        "cat_pipeline = Pipeline([\n",
        "        (\"select_cat\", DataFrameSelector(categorical)),\n",
        "        (\"imputer\", MostFrequentImputer()),\n",
        "        (\"cat_encoder\", OneHotEncoder(sparse=False)),\n",
        "    ])\n",
        "\n",
        "preprocess_pipeline = FeatureUnion(transformer_list=[\n",
        "        (\"num_pipeline\", num_pipeline),\n",
        "        (\"cat_pipeline\", cat_pipeline),\n",
        "    ])"
      ],
      "execution_count": null,
      "outputs": []
    },
    {
      "cell_type": "markdown",
      "metadata": {
        "id": "SQbPx_q0KiqQ",
        "colab_type": "text"
      },
      "source": [
        "#Models creation"
      ]
    },
    {
      "cell_type": "markdown",
      "metadata": {
        "id": "9S7YQuTfL5oh",
        "colab_type": "text"
      },
      "source": [
        "Because of we're dealing with binary classification problem and also we have unbalanced dataset, we decided to check three algorithms:\n",
        "\n",
        "\n",
        "*   Logistic regression\n",
        "*   Random forest\n",
        "*   XGBoost\n",
        "\n",
        "\n",
        "\n",
        "\n",
        "\n"
      ]
    },
    {
      "cell_type": "markdown",
      "metadata": {
        "id": "hDsj3A0IPuy3",
        "colab_type": "text"
      },
      "source": [
        "##a) Logistic Regression"
      ]
    },
    {
      "cell_type": "code",
      "metadata": {
        "id": "0gmUoZLHKVHl",
        "colab_type": "code",
        "colab": {
          "base_uri": "https://localhost:8080/",
          "height": 586
        },
        "outputId": "61c40dcc-c46a-4968-f556-3bb60cc3a873"
      },
      "source": [
        "pipe_1 = Pipeline([('preprocessing', preprocess_pipeline),('classifier', LogisticRegression(penalty='l1', class_weight= {0: 0.15, 1: 0.85}, C=0.1, random_state=42))])\n",
        "\n",
        "pipe_1.fit(X_train, y_train)"
      ],
      "execution_count": null,
      "outputs": [
        {
          "output_type": "stream",
          "text": [
            "/usr/local/lib/python3.6/dist-packages/sklearn/linear_model/logistic.py:432: FutureWarning: Default solver will be changed to 'lbfgs' in 0.22. Specify a solver to silence this warning.\n",
            "  FutureWarning)\n"
          ],
          "name": "stderr"
        },
        {
          "output_type": "execute_result",
          "data": {
            "text/plain": [
              "Pipeline(memory=None,\n",
              "         steps=[('preprocessing',\n",
              "                 FeatureUnion(n_jobs=None,\n",
              "                              transformer_list=[('num_pipeline',\n",
              "                                                 Pipeline(memory=None,\n",
              "                                                          steps=[('select_numeric',\n",
              "                                                                  DataFrameSelector(attribute_names=['loan_amnt',\n",
              "                                                                                                     'installment',\n",
              "                                                                                                     'grade',\n",
              "                                                                                                     'emp_length',\n",
              "                                                                                                     'annual_inc',\n",
              "                                                                                                     'dti',\n",
              "                                                                                                     'delinq_2yrs',\n",
              "                                                                                                     'inq_last_6mths',\n",
              "                                                                                                     'open_acc',\n",
              "                                                                                                     'pub_rec',\n",
              "                                                                                                     'revol_bal',\n",
              "                                                                                                     'revol_util',\n",
              "                                                                                                     'total_acc',\n",
              "                                                                                                     'collectio...\n",
              "                                                                                n_values=None,\n",
              "                                                                                sparse=False))],\n",
              "                                                          verbose=False))],\n",
              "                              transformer_weights=None, verbose=False)),\n",
              "                ('classifier',\n",
              "                 LogisticRegression(C=0.1, class_weight={0: 0.15, 1: 0.85},\n",
              "                                    dual=False, fit_intercept=True,\n",
              "                                    intercept_scaling=1, l1_ratio=None,\n",
              "                                    max_iter=100, multi_class='warn',\n",
              "                                    n_jobs=None, penalty='l1', random_state=42,\n",
              "                                    solver='warn', tol=0.0001, verbose=0,\n",
              "                                    warm_start=False))],\n",
              "         verbose=False)"
            ]
          },
          "metadata": {
            "tags": []
          },
          "execution_count": 76
        }
      ]
    },
    {
      "cell_type": "markdown",
      "metadata": {
        "id": "yGa6RhQ1QHb_",
        "colab_type": "text"
      },
      "source": [
        "##b) Random Forest"
      ]
    },
    {
      "cell_type": "code",
      "metadata": {
        "id": "QtLDLshNjXDe",
        "colab_type": "code",
        "colab": {
          "base_uri": "https://localhost:8080/",
          "height": 570
        },
        "outputId": "8317e111-6a48-4c29-9f65-fbf9bb67cf9e"
      },
      "source": [
        "pipe_2 = Pipeline([('preprocessing', preprocess_pipeline),('classifier', RandomForestClassifier(bootstrap=True,n_estimators=1000,class_weight={0: 1, 1: 6},min_samples_leaf=500,max_features='sqrt',n_jobs=-1,oob_score=True,random_state = 42,max_depth=10))])\n",
        "\n",
        "pipe_2.fit(X_train, y_train)"
      ],
      "execution_count": null,
      "outputs": [
        {
          "output_type": "execute_result",
          "data": {
            "text/plain": [
              "Pipeline(memory=None,\n",
              "         steps=[('preprocessing',\n",
              "                 FeatureUnion(n_jobs=None,\n",
              "                              transformer_list=[('num_pipeline',\n",
              "                                                 Pipeline(memory=None,\n",
              "                                                          steps=[('select_numeric',\n",
              "                                                                  DataFrameSelector(attribute_names=['loan_amnt',\n",
              "                                                                                                     'installment',\n",
              "                                                                                                     'grade',\n",
              "                                                                                                     'emp_length',\n",
              "                                                                                                     'annual_inc',\n",
              "                                                                                                     'dti',\n",
              "                                                                                                     'delinq_2yrs',\n",
              "                                                                                                     'inq_last_6mths',\n",
              "                                                                                                     'open_acc',\n",
              "                                                                                                     'pub_rec',\n",
              "                                                                                                     'revol_bal',\n",
              "                                                                                                     'revol_util',\n",
              "                                                                                                     'total_acc',\n",
              "                                                                                                     'collectio...\n",
              "                 RandomForestClassifier(bootstrap=True,\n",
              "                                        class_weight={0: 1, 1: 6},\n",
              "                                        criterion='gini', max_depth=10,\n",
              "                                        max_features='sqrt',\n",
              "                                        max_leaf_nodes=None,\n",
              "                                        min_impurity_decrease=0.0,\n",
              "                                        min_impurity_split=None,\n",
              "                                        min_samples_leaf=500,\n",
              "                                        min_samples_split=2,\n",
              "                                        min_weight_fraction_leaf=0.0,\n",
              "                                        n_estimators=1000, n_jobs=-1,\n",
              "                                        oob_score=True, random_state=42,\n",
              "                                        verbose=0, warm_start=False))],\n",
              "         verbose=False)"
            ]
          },
          "metadata": {
            "tags": []
          },
          "execution_count": 68
        }
      ]
    },
    {
      "cell_type": "markdown",
      "metadata": {
        "id": "JFtfmrwFV7wO",
        "colab_type": "text"
      },
      "source": [
        "##c) XGBoost"
      ]
    },
    {
      "cell_type": "code",
      "metadata": {
        "id": "3XwBmsfP-Qro",
        "colab_type": "code",
        "colab": {}
      },
      "source": [
        "#setting scale_pos_weight due to unbalanced dataset\n",
        "scale_pos_weight=y_train[y_train==0].count()/y_train[y_train==1].count()"
      ],
      "execution_count": null,
      "outputs": []
    },
    {
      "cell_type": "code",
      "metadata": {
        "id": "suegTixSWAHs",
        "colab_type": "code",
        "colab": {
          "base_uri": "https://localhost:8080/",
          "height": 521
        },
        "outputId": "0fec17fc-0b21-4875-d7a7-1cded05ac498"
      },
      "source": [
        "pipe_3 = Pipeline([('preprocessing', preprocess_pipeline),('classifier', XGBClassifier(learning_rate =0.1, n_estimators=1000,\n",
        "                                                                                                                     gamma=0,\n",
        "                                                                                                                     max_depht=10,\n",
        "                                                                                                                     min_child_weight=5,\n",
        "                                                                                                                     subsample=0.8,\n",
        "                                                                                                                     colsample_bytree=0.8,\n",
        "                                                                                                                     eval_metrics=\"roc_auc\",\n",
        "                                                                                                                     scale_pos_weight=scale_pos_weight,\n",
        "                                                                                                                     n_thread=4, seed=42, cv=5, max_delta_step=3,\n",
        "                                                                                                                     objective= 'binary:logistic'))])\n",
        "\n",
        "pipe_3.fit(X_train, y_train)"
      ],
      "execution_count": null,
      "outputs": [
        {
          "output_type": "execute_result",
          "data": {
            "text/plain": [
              "Pipeline(memory=None,\n",
              "         steps=[('preprocessing',\n",
              "                 FeatureUnion(n_jobs=None,\n",
              "                              transformer_list=[('num_pipeline',\n",
              "                                                 Pipeline(memory=None,\n",
              "                                                          steps=[('select_numeric',\n",
              "                                                                  DataFrameSelector(attribute_names=['loan_amnt',\n",
              "                                                                                                     'installment',\n",
              "                                                                                                     'grade',\n",
              "                                                                                                     'emp_length',\n",
              "                                                                                                     'annual_inc',\n",
              "                                                                                                     'dti',\n",
              "                                                                                                     'delinq_2yrs',\n",
              "                                                                                                     'inq_last_6mths',\n",
              "                                                                                                     'open_acc',\n",
              "                                                                                                     'pub_rec',\n",
              "                                                                                                     'revol_bal',\n",
              "                                                                                                     'revol_util',\n",
              "                                                                                                     'total_acc',\n",
              "                                                                                                     'collectio...\n",
              "                               colsample_bytree=0.8, cv=5,\n",
              "                               eval_metrics='roc_auc', gamma=0,\n",
              "                               learning_rate=0.1, max_delta_step=3,\n",
              "                               max_depht=10, max_depth=3, min_child_weight=5,\n",
              "                               missing=None, n_estimators=1000, n_jobs=1,\n",
              "                               n_thread=4, nthread=None,\n",
              "                               objective='binary:logistic', random_state=0,\n",
              "                               reg_alpha=0, reg_lambda=1,\n",
              "                               scale_pos_weight=6.962338485690134, seed=42,\n",
              "                               silent=None, subsample=0.8, verbosity=1))],\n",
              "         verbose=False)"
            ]
          },
          "metadata": {
            "tags": []
          },
          "execution_count": 70
        }
      ]
    },
    {
      "cell_type": "markdown",
      "metadata": {
        "id": "2hnjocfmb2KV",
        "colab_type": "text"
      },
      "source": [
        "#Model selection"
      ]
    },
    {
      "cell_type": "markdown",
      "metadata": {
        "id": "cBbokPHYb6Cv",
        "colab_type": "text"
      },
      "source": [
        "The model selection will be conducted using ROC curve and classification metrics as AUC, F1, precision and recall which was calculated on test set."
      ]
    },
    {
      "cell_type": "markdown",
      "metadata": {
        "id": "XioW3A6CjELy",
        "colab_type": "text"
      },
      "source": [
        "###a) ROC curve"
      ]
    },
    {
      "cell_type": "code",
      "metadata": {
        "id": "6WNBqU6Pg2tx",
        "colab_type": "code",
        "colab": {}
      },
      "source": [
        "# roc function\n",
        "def plot_roc_curve(fpr, tpr, label=None):\n",
        "    plt.plot(fpr, tpr, linewidth=2, label=label)\n",
        "    plt.plot([0, 1], [0, 1], 'k--')\n",
        "    plt.axis([-0.1, 1.1, -0.1, 1.1])\n",
        "    plt.xlabel('False Positive Rate', fontsize=16)\n",
        "    plt.ylabel('True Positive Rate', fontsize=16)"
      ],
      "execution_count": null,
      "outputs": []
    },
    {
      "cell_type": "code",
      "metadata": {
        "id": "pybtVsIkhUjR",
        "colab_type": "code",
        "colab": {}
      },
      "source": [
        "#calculating probability\n",
        "y_scores_1 = pipe_1.decision_function(X_test)\n",
        "\n",
        "predictions_rt = pipe_2.predict_proba(X_test)\n",
        "y_scores_2=predictions_rt[:,1]\n",
        "\n",
        "predictions_xg = pipe_3.predict_proba(X_test)\n",
        "y_scores_3=predictions_xg[:,1]"
      ],
      "execution_count": null,
      "outputs": []
    },
    {
      "cell_type": "code",
      "metadata": {
        "id": "6o4ZPqMGh80A",
        "colab_type": "code",
        "colab": {
          "base_uri": "https://localhost:8080/",
          "height": 397
        },
        "outputId": "c42bb34e-6f8f-48b8-893e-ffefec8315f6"
      },
      "source": [
        "#plotting roc curve\n",
        "fpr_clf_1, tpr_clf_1, thresholds_clf_1 = roc_curve(y_test, y_scores_1)\n",
        "fpr_clf_2, tpr_clf_2, thresholds_clf_2 = roc_curve(y_test, y_scores_2)\n",
        "fpr_clf_3, tpr_clf_3, thresholds_clf_3 = roc_curve(y_test, y_scores_3)\n",
        "\n",
        "plt.figure(figsize=(8, 6))\n",
        "plot_roc_curve(fpr_clf_1, tpr_clf_1, \"Logistic Regression\")\n",
        "plot_roc_curve(fpr_clf_2, tpr_clf_2, \"Random Forest\")\n",
        "plot_roc_curve(fpr_clf_3, tpr_clf_3, \"XgBoost\")\n",
        "plt.legend(loc=\"lower right\", fontsize=15)\n",
        "plt.show()"
      ],
      "execution_count": null,
      "outputs": [
        {
          "output_type": "display_data",
          "data": {
            "image/png": "[encoded data removed]",
            "text/plain": [
              "<Figure size 576x432 with 1 Axes>"
            ]
          },
          "metadata": {
            "tags": []
          }
        }
      ]
    },
    {
      "cell_type": "markdown",
      "metadata": {
        "id": "ANudPDwtjJ1T",
        "colab_type": "text"
      },
      "source": [
        "###b) Classification metrics"
      ]
    },
    {
      "cell_type": "code",
      "metadata": {
        "id": "Qi4FZBOOiU38",
        "colab_type": "code",
        "colab": {}
      },
      "source": [
        "models = []\n",
        "models.append(('LR', pipe_1))\n",
        "models.append(('Random Forest', pipe_2))\n",
        "models.append(('XgBoost', pipe_3))\n",
        "\n",
        "precision_score = []\n",
        "recall_score = []\n",
        "f1_score = []\n",
        "auc_score = []\n",
        "for name, model in models:\n",
        "    precision_score.append(metrics.precision_score(y_test , model.predict(X_test)))\n",
        "    recall_score.append(metrics.recall_score(y_test , model.predict(X_test)))\n",
        "    f1_score.append( metrics.f1_score(y_test , model.predict(X_test)))\n",
        "    auc_score.append(metrics.roc_auc_score(y_test , model.predict(X_test)))"
      ],
      "execution_count": null,
      "outputs": []
    },
    {
      "cell_type": "code",
      "metadata": {
        "id": "IbclcyPBoQDP",
        "colab_type": "code",
        "colab": {
          "base_uri": "https://localhost:8080/",
          "height": 133
        },
        "outputId": "e3f35133-c5d7-4e31-9baf-0327a08b542e"
      },
      "source": [
        "#creating a table with outcomes\n",
        "mapping = {'precision_score': precision_score, \n",
        "     'recall_score': recall_score, \n",
        "     'f1_score': f1_score,\n",
        "     'auc_score' : auc_score\n",
        "    }\n",
        "outcomes_table = pd.DataFrame(data=mapping)\n",
        "outcomes_table.insert(loc=0, column='Method', value=['Logistic Regression','Random Forest','XGBoost'])\n",
        "outcomes_table"
      ],
      "execution_count": null,
      "outputs": [
        {
          "output_type": "execute_result",
          "data": {
            "text/html": [
              "<div>\n",
              "<style scoped>\n",
              "    .dataframe tbody tr th:only-of-type {\n",
              "        vertical-align: middle;\n",
              "    }\n",
              "\n",
              "    .dataframe tbody tr th {\n",
              "        vertical-align: top;\n",
              "    }\n",
              "\n",
              "    .dataframe thead th {\n",
              "        text-align: right;\n",
              "    }\n",
              "</style>\n",
              "<table border=\"1\" class=\"dataframe\">\n",
              "  <thead>\n",
              "    <tr style=\"text-align: right;\">\n",
              "      <th></th>\n",
              "      <th>Method</th>\n",
              "      <th>precision_score</th>\n",
              "      <th>recall_score</th>\n",
              "      <th>f1_score</th>\n",
              "      <th>auc_score</th>\n",
              "    </tr>\n",
              "  </thead>\n",
              "  <tbody>\n",
              "    <tr>\n",
              "      <th>0</th>\n",
              "      <td>Logistic Regression</td>\n",
              "      <td>0.275034</td>\n",
              "      <td>0.552442</td>\n",
              "      <td>0.367238</td>\n",
              "      <td>0.671049</td>\n",
              "    </tr>\n",
              "    <tr>\n",
              "      <th>1</th>\n",
              "      <td>Random Forest</td>\n",
              "      <td>0.262157</td>\n",
              "      <td>0.585946</td>\n",
              "      <td>0.362244</td>\n",
              "      <td>0.673865</td>\n",
              "    </tr>\n",
              "    <tr>\n",
              "      <th>2</th>\n",
              "      <td>XGBoost</td>\n",
              "      <td>0.247435</td>\n",
              "      <td>0.677570</td>\n",
              "      <td>0.362494</td>\n",
              "      <td>0.689945</td>\n",
              "    </tr>\n",
              "  </tbody>\n",
              "</table>\n",
              "</div>"
            ],
            "text/plain": [
              "                Method  precision_score  recall_score  f1_score  auc_score\n",
              "0  Logistic Regression  0.275034         0.552442      0.367238  0.671049 \n",
              "1  Random Forest        0.262157         0.585946      0.362244  0.673865 \n",
              "2  XGBoost              0.247435         0.677570      0.362494  0.689945 "
            ]
          },
          "metadata": {
            "tags": []
          },
          "execution_count": 83
        }
      ]
    }
  ]
}